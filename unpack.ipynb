{
  "nbformat": 4,
  "nbformat_minor": 0,
  "metadata": {
    "colab": {
      "provenance": []
    },
    "kernelspec": {
      "name": "python3",
      "display_name": "Python 3"
    },
    "language_info": {
      "name": "python"
    }
  },
  "cells": [
    {
      "cell_type": "code",
      "source": [
        "!pip install python-pcapng"
      ],
      "metadata": {
        "colab": {
          "base_uri": "https://localhost:8080/"
        },
        "id": "hRfjpzVYwCzN",
        "outputId": "d075e5a0-b200-4087-ba9f-6f9b2e5d21ca"
      },
      "execution_count": null,
      "outputs": [
        {
          "output_type": "stream",
          "name": "stdout",
          "text": [
            "Looking in indexes: https://pypi.org/simple, https://us-python.pkg.dev/colab-wheels/public/simple/\n",
            "Collecting python-pcapng\n",
            "  Downloading python_pcapng-2.1.1-py3-none-any.whl (33 kB)\n",
            "Installing collected packages: python-pcapng\n",
            "Successfully installed python-pcapng-2.1.1\n"
          ]
        }
      ]
    },
    {
      "cell_type": "code",
      "source": [
        "path_to_attack = '/content/drive/MyDrive/IoT project/anomaly32k (1).pcapng'"
      ],
      "metadata": {
        "id": "pfDmhfWZwKWH"
      },
      "execution_count": null,
      "outputs": []
    },
    {
      "cell_type": "code",
      "source": [
        "path_to_normal = '/content/drive/MyDrive/IoT project/normal50k (2).pcapng'"
      ],
      "metadata": {
        "id": "ncoinAwPwOxt"
      },
      "execution_count": null,
      "outputs": []
    },
    {
      "cell_type": "code",
      "execution_count": null,
      "metadata": {
        "id": "xgiXyediuNxZ",
        "colab": {
          "base_uri": "https://localhost:8080/"
        },
        "outputId": "bc1c5f8f-ee1a-40b7-a2a6-9547ec1c70d0"
      },
      "outputs": [
        {
          "output_type": "stream",
          "name": "stdout",
          "text": [
            "0\n",
            "1\n",
            "49786\n"
          ]
        }
      ],
      "source": [
        "from pcapng import FileScanner\n",
        "import numpy as np\n",
        "\n",
        "anomaly_blocks = []\n",
        "normal_blocks = []\n",
        "with open(path_to_normal, 'rb') as fp:\n",
        "    scanner = FileScanner(fp)\n",
        "    \n",
        "    for index, block in enumerate(scanner):\n",
        "      try: \n",
        "        decode_block = block._decoded['packet_data']  \n",
        "        current_vector = []    \n",
        "        for byte in decode_block:\n",
        "          current_vector.append(int(byte))\n",
        "        current_vector = np.array(current_vector)\n",
        "        normal_blocks.append(current_vector)\n",
        "      except:\n",
        "        print(index)"
      ]
    },
    {
      "cell_type": "code",
      "source": [
        "with open(path_to_attack, 'rb') as fp:\n",
        "    scanner = FileScanner(fp)\n",
        "    for index, block in enumerate(scanner):\n",
        "      try: \n",
        "        decode_block = block._decoded['packet_data']  \n",
        "        current_vector = []    \n",
        "        for byte in decode_block:\n",
        "          current_vector.append(int(byte))\n",
        "        current_vector = np.array(current_vector)\n",
        "        anomaly_blocks.append(current_vector)\n",
        "      except:\n",
        "        print(index)"
      ],
      "metadata": {
        "colab": {
          "base_uri": "https://localhost:8080/"
        },
        "id": "AvQhD4RX3T35",
        "outputId": "63246a54-ae99-456b-f912-7ddc3f9779eb"
      },
      "execution_count": null,
      "outputs": [
        {
          "output_type": "stream",
          "name": "stdout",
          "text": [
            "0\n",
            "1\n",
            "32175\n"
          ]
        }
      ]
    },
    {
      "cell_type": "code",
      "source": [
        "normal_blocks_len = []\n",
        "for item in normal_blocks:\n",
        "  if len(item) == 112:\n",
        "    normal_blocks_len.append(item)\n",
        "anomaly_blocks_len = []\n",
        "for item in anomaly_blocks:\n",
        "  if len(item) == 112:\n",
        "    anomaly_blocks_len.append(item)  "
      ],
      "metadata": {
        "id": "oTeJTsIx4rNR"
      },
      "execution_count": null,
      "outputs": []
    },
    {
      "cell_type": "code",
      "source": [
        "NORMAL = np.vstack(normal_blocks_len)"
      ],
      "metadata": {
        "id": "EjyRsDV85DrI"
      },
      "execution_count": null,
      "outputs": []
    },
    {
      "cell_type": "code",
      "source": [
        "NORMAL.shape"
      ],
      "metadata": {
        "colab": {
          "base_uri": "https://localhost:8080/"
        },
        "id": "mPrqVTWc5KVh",
        "outputId": "e1daa7f5-fdad-4cfb-c384-5892da556d82"
      },
      "execution_count": null,
      "outputs": [
        {
          "output_type": "execute_result",
          "data": {
            "text/plain": [
              "(49616, 112)"
            ]
          },
          "metadata": {},
          "execution_count": 8
        }
      ]
    },
    {
      "cell_type": "code",
      "source": [
        "ANOMALY = np.vstack(anomaly_blocks_len)"
      ],
      "metadata": {
        "id": "IzDwCKiK5Uhh"
      },
      "execution_count": null,
      "outputs": []
    },
    {
      "cell_type": "code",
      "source": [
        "ANOMALY.shape"
      ],
      "metadata": {
        "colab": {
          "base_uri": "https://localhost:8080/"
        },
        "id": "UtQqfOLM5YoT",
        "outputId": "0b113ba1-f2bf-401a-9d2b-cd86a121d578"
      },
      "execution_count": null,
      "outputs": [
        {
          "output_type": "execute_result",
          "data": {
            "text/plain": [
              "(27701, 112)"
            ]
          },
          "metadata": {},
          "execution_count": 10
        }
      ]
    },
    {
      "cell_type": "code",
      "source": [
        "import pandas as pd\n",
        "data = pd.DataFrame(np.vstack((NORMAL, ANOMALY)), columns=[str(item) + 'e' for item in range(112)])\n",
        "labels = [0] * NORMAL.shape[0] + [1] * ANOMALY.shape[0]\n",
        "data['label'] = labels"
      ],
      "metadata": {
        "id": "2Qzh8gcu5eno"
      },
      "execution_count": null,
      "outputs": []
    },
    {
      "cell_type": "code",
      "source": [
        "dir(data)"
      ],
      "metadata": {
        "colab": {
          "base_uri": "https://localhost:8080/"
        },
        "id": "_RskTh6gr1kH",
        "outputId": "e81591ef-3e2b-48a5-e325-17d627343a5e"
      },
      "execution_count": null,
      "outputs": [
        {
          "output_type": "execute_result",
          "data": {
            "text/plain": [
              "['T',\n",
              " '_AXIS_LEN',\n",
              " '_AXIS_ORDERS',\n",
              " '_AXIS_REVERSED',\n",
              " '_AXIS_TO_AXIS_NUMBER',\n",
              " '_HANDLED_TYPES',\n",
              " '__abs__',\n",
              " '__add__',\n",
              " '__and__',\n",
              " '__annotations__',\n",
              " '__array__',\n",
              " '__array_priority__',\n",
              " '__array_ufunc__',\n",
              " '__array_wrap__',\n",
              " '__bool__',\n",
              " '__class__',\n",
              " '__contains__',\n",
              " '__copy__',\n",
              " '__deepcopy__',\n",
              " '__delattr__',\n",
              " '__delitem__',\n",
              " '__dict__',\n",
              " '__dir__',\n",
              " '__divmod__',\n",
              " '__doc__',\n",
              " '__eq__',\n",
              " '__finalize__',\n",
              " '__floordiv__',\n",
              " '__format__',\n",
              " '__ge__',\n",
              " '__getattr__',\n",
              " '__getattribute__',\n",
              " '__getitem__',\n",
              " '__getstate__',\n",
              " '__gt__',\n",
              " '__hash__',\n",
              " '__iadd__',\n",
              " '__iand__',\n",
              " '__ifloordiv__',\n",
              " '__imod__',\n",
              " '__imul__',\n",
              " '__init__',\n",
              " '__init_subclass__',\n",
              " '__invert__',\n",
              " '__ior__',\n",
              " '__ipow__',\n",
              " '__isub__',\n",
              " '__iter__',\n",
              " '__itruediv__',\n",
              " '__ixor__',\n",
              " '__le__',\n",
              " '__len__',\n",
              " '__lt__',\n",
              " '__matmul__',\n",
              " '__mod__',\n",
              " '__module__',\n",
              " '__mul__',\n",
              " '__ne__',\n",
              " '__neg__',\n",
              " '__new__',\n",
              " '__nonzero__',\n",
              " '__or__',\n",
              " '__pos__',\n",
              " '__pow__',\n",
              " '__radd__',\n",
              " '__rand__',\n",
              " '__rdivmod__',\n",
              " '__reduce__',\n",
              " '__reduce_ex__',\n",
              " '__repr__',\n",
              " '__rfloordiv__',\n",
              " '__rmatmul__',\n",
              " '__rmod__',\n",
              " '__rmul__',\n",
              " '__ror__',\n",
              " '__round__',\n",
              " '__rpow__',\n",
              " '__rsub__',\n",
              " '__rtruediv__',\n",
              " '__rxor__',\n",
              " '__setattr__',\n",
              " '__setitem__',\n",
              " '__setstate__',\n",
              " '__sizeof__',\n",
              " '__str__',\n",
              " '__sub__',\n",
              " '__subclasshook__',\n",
              " '__truediv__',\n",
              " '__weakref__',\n",
              " '__xor__',\n",
              " '_accessors',\n",
              " '_accum_func',\n",
              " '_add_numeric_operations',\n",
              " '_agg_by_level',\n",
              " '_agg_examples_doc',\n",
              " '_agg_summary_and_see_also_doc',\n",
              " '_align_frame',\n",
              " '_align_series',\n",
              " '_arith_method',\n",
              " '_as_manager',\n",
              " '_attrs',\n",
              " '_box_col_values',\n",
              " '_can_fast_transpose',\n",
              " '_check_inplace_and_allows_duplicate_labels',\n",
              " '_check_inplace_setting',\n",
              " '_check_is_chained_assignment_possible',\n",
              " '_check_label_or_level_ambiguity',\n",
              " '_check_setitem_copy',\n",
              " '_clear_item_cache',\n",
              " '_clip_with_one_bound',\n",
              " '_clip_with_scalar',\n",
              " '_cmp_method',\n",
              " '_combine_frame',\n",
              " '_consolidate',\n",
              " '_consolidate_inplace',\n",
              " '_construct_axes_dict',\n",
              " '_construct_axes_from_arguments',\n",
              " '_construct_result',\n",
              " '_constructor',\n",
              " '_constructor_sliced',\n",
              " '_convert',\n",
              " '_count_level',\n",
              " '_data',\n",
              " '_dir_additions',\n",
              " '_dir_deletions',\n",
              " '_dispatch_frame_op',\n",
              " '_drop_axis',\n",
              " '_drop_labels_or_levels',\n",
              " '_ensure_valid_index',\n",
              " '_find_valid_index',\n",
              " '_flags',\n",
              " '_from_arrays',\n",
              " '_from_mgr',\n",
              " '_get_agg_axis',\n",
              " '_get_axis',\n",
              " '_get_axis_name',\n",
              " '_get_axis_number',\n",
              " '_get_axis_resolvers',\n",
              " '_get_block_manager_axis',\n",
              " '_get_bool_data',\n",
              " '_get_cleaned_column_resolvers',\n",
              " '_get_column_array',\n",
              " '_get_index_resolvers',\n",
              " '_get_item_cache',\n",
              " '_get_label_or_level_values',\n",
              " '_get_numeric_data',\n",
              " '_get_value',\n",
              " '_getitem_bool_array',\n",
              " '_getitem_multilevel',\n",
              " '_gotitem',\n",
              " '_hidden_attrs',\n",
              " '_indexed_same',\n",
              " '_info_axis',\n",
              " '_info_axis_name',\n",
              " '_info_axis_number',\n",
              " '_info_repr',\n",
              " '_init_mgr',\n",
              " '_inplace_method',\n",
              " '_internal_names',\n",
              " '_internal_names_set',\n",
              " '_is_copy',\n",
              " '_is_homogeneous_type',\n",
              " '_is_label_or_level_reference',\n",
              " '_is_label_reference',\n",
              " '_is_level_reference',\n",
              " '_is_mixed_type',\n",
              " '_is_view',\n",
              " '_iset_item',\n",
              " '_iset_item_mgr',\n",
              " '_iset_not_inplace',\n",
              " '_item_cache',\n",
              " '_iter_column_arrays',\n",
              " '_ixs',\n",
              " '_join_compat',\n",
              " '_logical_func',\n",
              " '_logical_method',\n",
              " '_maybe_cache_changed',\n",
              " '_maybe_update_cacher',\n",
              " '_metadata',\n",
              " '_mgr',\n",
              " '_min_count_stat_function',\n",
              " '_needs_reindex_multi',\n",
              " '_protect_consolidate',\n",
              " '_reduce',\n",
              " '_reindex_axes',\n",
              " '_reindex_columns',\n",
              " '_reindex_index',\n",
              " '_reindex_multi',\n",
              " '_reindex_with_indexers',\n",
              " '_replace_columnwise',\n",
              " '_repr_data_resource_',\n",
              " '_repr_fits_horizontal_',\n",
              " '_repr_fits_vertical_',\n",
              " '_repr_html_',\n",
              " '_repr_latex_',\n",
              " '_reset_cache',\n",
              " '_reset_cacher',\n",
              " '_sanitize_column',\n",
              " '_series',\n",
              " '_set_axis',\n",
              " '_set_axis_name',\n",
              " '_set_axis_nocheck',\n",
              " '_set_is_copy',\n",
              " '_set_item',\n",
              " '_set_item_frame_value',\n",
              " '_set_item_mgr',\n",
              " '_set_value',\n",
              " '_setitem_array',\n",
              " '_setitem_frame',\n",
              " '_setitem_slice',\n",
              " '_slice',\n",
              " '_stat_axis',\n",
              " '_stat_axis_name',\n",
              " '_stat_axis_number',\n",
              " '_stat_function',\n",
              " '_stat_function_ddof',\n",
              " '_take_with_is_copy',\n",
              " '_to_dict_of_blocks',\n",
              " '_typ',\n",
              " '_update_inplace',\n",
              " '_validate_dtype',\n",
              " '_values',\n",
              " '_where',\n",
              " 'abs',\n",
              " 'add',\n",
              " 'add_prefix',\n",
              " 'add_suffix',\n",
              " 'agg',\n",
              " 'aggregate',\n",
              " 'align',\n",
              " 'all',\n",
              " 'any',\n",
              " 'append',\n",
              " 'apply',\n",
              " 'applymap',\n",
              " 'asfreq',\n",
              " 'asof',\n",
              " 'assign',\n",
              " 'astype',\n",
              " 'at',\n",
              " 'at_time',\n",
              " 'attrs',\n",
              " 'axes',\n",
              " 'backfill',\n",
              " 'between_time',\n",
              " 'bfill',\n",
              " 'bool',\n",
              " 'boxplot',\n",
              " 'clip',\n",
              " 'columns',\n",
              " 'combine',\n",
              " 'combine_first',\n",
              " 'compare',\n",
              " 'convert_dtypes',\n",
              " 'copy',\n",
              " 'corr',\n",
              " 'corrwith',\n",
              " 'count',\n",
              " 'cov',\n",
              " 'cummax',\n",
              " 'cummin',\n",
              " 'cumprod',\n",
              " 'cumsum',\n",
              " 'describe',\n",
              " 'diff',\n",
              " 'div',\n",
              " 'divide',\n",
              " 'dot',\n",
              " 'drop',\n",
              " 'drop_duplicates',\n",
              " 'droplevel',\n",
              " 'dropna',\n",
              " 'dtypes',\n",
              " 'duplicated',\n",
              " 'empty',\n",
              " 'eq',\n",
              " 'equals',\n",
              " 'eval',\n",
              " 'ewm',\n",
              " 'expanding',\n",
              " 'explode',\n",
              " 'ffill',\n",
              " 'fillna',\n",
              " 'filter',\n",
              " 'first',\n",
              " 'first_valid_index',\n",
              " 'flags',\n",
              " 'floordiv',\n",
              " 'from_dict',\n",
              " 'from_records',\n",
              " 'ge',\n",
              " 'get',\n",
              " 'groupby',\n",
              " 'gt',\n",
              " 'head',\n",
              " 'hist',\n",
              " 'iat',\n",
              " 'idxmax',\n",
              " 'idxmin',\n",
              " 'iloc',\n",
              " 'index',\n",
              " 'infer_objects',\n",
              " 'info',\n",
              " 'insert',\n",
              " 'interpolate',\n",
              " 'isin',\n",
              " 'isna',\n",
              " 'isnull',\n",
              " 'items',\n",
              " 'iteritems',\n",
              " 'iterrows',\n",
              " 'itertuples',\n",
              " 'join',\n",
              " 'keys',\n",
              " 'kurt',\n",
              " 'kurtosis',\n",
              " 'last',\n",
              " 'last_valid_index',\n",
              " 'le',\n",
              " 'loc',\n",
              " 'lookup',\n",
              " 'lt',\n",
              " 'mad',\n",
              " 'mask',\n",
              " 'max',\n",
              " 'mean',\n",
              " 'median',\n",
              " 'melt',\n",
              " 'memory_usage',\n",
              " 'merge',\n",
              " 'min',\n",
              " 'mod',\n",
              " 'mode',\n",
              " 'mul',\n",
              " 'multiply',\n",
              " 'ndim',\n",
              " 'ne',\n",
              " 'nlargest',\n",
              " 'notna',\n",
              " 'notnull',\n",
              " 'nsmallest',\n",
              " 'nunique',\n",
              " 'pad',\n",
              " 'pct_change',\n",
              " 'pipe',\n",
              " 'pivot',\n",
              " 'pivot_table',\n",
              " 'plot',\n",
              " 'pop',\n",
              " 'pow',\n",
              " 'prod',\n",
              " 'product',\n",
              " 'quantile',\n",
              " 'query',\n",
              " 'radd',\n",
              " 'rank',\n",
              " 'rdiv',\n",
              " 'reindex',\n",
              " 'reindex_like',\n",
              " 'rename',\n",
              " 'rename_axis',\n",
              " 'reorder_levels',\n",
              " 'replace',\n",
              " 'resample',\n",
              " 'reset_index',\n",
              " 'rfloordiv',\n",
              " 'rmod',\n",
              " 'rmul',\n",
              " 'rolling',\n",
              " 'round',\n",
              " 'rpow',\n",
              " 'rsub',\n",
              " 'rtruediv',\n",
              " 'sample',\n",
              " 'select_dtypes',\n",
              " 'sem',\n",
              " 'set_axis',\n",
              " 'set_flags',\n",
              " 'set_index',\n",
              " 'shape',\n",
              " 'shift',\n",
              " 'size',\n",
              " 'skew',\n",
              " 'slice_shift',\n",
              " 'sort_index',\n",
              " 'sort_values',\n",
              " 'squeeze',\n",
              " 'stack',\n",
              " 'std',\n",
              " 'style',\n",
              " 'sub',\n",
              " 'subtract',\n",
              " 'sum',\n",
              " 'swapaxes',\n",
              " 'swaplevel',\n",
              " 'tail',\n",
              " 'take',\n",
              " 'to_clipboard',\n",
              " 'to_csv',\n",
              " 'to_dict',\n",
              " 'to_excel',\n",
              " 'to_feather',\n",
              " 'to_gbq',\n",
              " 'to_hdf',\n",
              " 'to_html',\n",
              " 'to_json',\n",
              " 'to_latex',\n",
              " 'to_markdown',\n",
              " 'to_numpy',\n",
              " 'to_parquet',\n",
              " 'to_period',\n",
              " 'to_pickle',\n",
              " 'to_records',\n",
              " 'to_sql',\n",
              " 'to_stata',\n",
              " 'to_string',\n",
              " 'to_timestamp',\n",
              " 'to_xarray',\n",
              " 'to_xml',\n",
              " 'transform',\n",
              " 'transpose',\n",
              " 'truediv',\n",
              " 'truncate',\n",
              " 'tz_convert',\n",
              " 'tz_localize',\n",
              " 'unstack',\n",
              " 'update',\n",
              " 'value_counts',\n",
              " 'values',\n",
              " 'var',\n",
              " 'where',\n",
              " 'xs']"
            ]
          },
          "metadata": {},
          "execution_count": 27
        }
      ]
    },
    {
      "cell_type": "code",
      "source": [
        "data"
      ],
      "metadata": {
        "colab": {
          "base_uri": "https://localhost:8080/",
          "height": 424
        },
        "id": "nNGPNpxF5ex4",
        "outputId": "f6db53b0-0c1e-437f-b4f8-e52a3d6c2b6b"
      },
      "execution_count": null,
      "outputs": [
        {
          "output_type": "execute_result",
          "data": {
            "text/plain": [
              "       0e  1e  2e   3e   4e  5e  6e  7e  8e  9e  ...  103e  104e  105e  106e  \\\n",
              "0       0  12  41  155  247   7   0  12  41   6  ...    49    58    51    51   \n",
              "1       0  12  41  155  247   7   0  12  41   6  ...    49    58    51    51   \n",
              "2       0  12  41  155  247   7   0  12  41   6  ...    49    58    51    51   \n",
              "3       0  12  41  155  247   7   0  12  41   6  ...    49    58    51    51   \n",
              "4       0  12  41  155  247   7   0  12  41   6  ...    49    58    51    51   \n",
              "...    ..  ..  ..  ...  ...  ..  ..  ..  ..  ..  ...   ...   ...   ...   ...   \n",
              "77312   0  12  41  155  247   7   0  12  41   6  ...    53    58    50    49   \n",
              "77313   0  12  41  155  247   7   0  12  41   6  ...    53    58    50    49   \n",
              "77314   0  12  41  155  247   7   0  12  41   6  ...   102   113   113   119   \n",
              "77315   0  12  41  155  247   7   0  12  41   6  ...    53    58    50    49   \n",
              "77316   0  12  41  155  247   7   0  12  41   6  ...    53    58    50    49   \n",
              "\n",
              "       107e  108e  109e  110e  111e  label  \n",
              "0        32    50    48    50    50      0  \n",
              "1        32    50    48    50    50      0  \n",
              "2        32    50    48    50    50      0  \n",
              "3        32    50    48    50    50      0  \n",
              "4        32    50    48    50    50      0  \n",
              "...     ...   ...   ...   ...   ...    ...  \n",
              "77312    32    50    48    50    50      1  \n",
              "77313    32    50    48    50    50      1  \n",
              "77314    97   108   113   108   107      1  \n",
              "77315    32    50    48    50    50      1  \n",
              "77316    32    50    48    50    50      1  \n",
              "\n",
              "[77317 rows x 113 columns]"
            ],
            "text/html": [
              "\n",
              "  <div id=\"df-a9c7c57b-62da-48ef-8a25-d6e47be51f81\">\n",
              "    <div class=\"colab-df-container\">\n",
              "      <div>\n",
              "<style scoped>\n",
              "    .dataframe tbody tr th:only-of-type {\n",
              "        vertical-align: middle;\n",
              "    }\n",
              "\n",
              "    .dataframe tbody tr th {\n",
              "        vertical-align: top;\n",
              "    }\n",
              "\n",
              "    .dataframe thead th {\n",
              "        text-align: right;\n",
              "    }\n",
              "</style>\n",
              "<table border=\"1\" class=\"dataframe\">\n",
              "  <thead>\n",
              "    <tr style=\"text-align: right;\">\n",
              "      <th></th>\n",
              "      <th>0e</th>\n",
              "      <th>1e</th>\n",
              "      <th>2e</th>\n",
              "      <th>3e</th>\n",
              "      <th>4e</th>\n",
              "      <th>5e</th>\n",
              "      <th>6e</th>\n",
              "      <th>7e</th>\n",
              "      <th>8e</th>\n",
              "      <th>9e</th>\n",
              "      <th>...</th>\n",
              "      <th>103e</th>\n",
              "      <th>104e</th>\n",
              "      <th>105e</th>\n",
              "      <th>106e</th>\n",
              "      <th>107e</th>\n",
              "      <th>108e</th>\n",
              "      <th>109e</th>\n",
              "      <th>110e</th>\n",
              "      <th>111e</th>\n",
              "      <th>label</th>\n",
              "    </tr>\n",
              "  </thead>\n",
              "  <tbody>\n",
              "    <tr>\n",
              "      <th>0</th>\n",
              "      <td>0</td>\n",
              "      <td>12</td>\n",
              "      <td>41</td>\n",
              "      <td>155</td>\n",
              "      <td>247</td>\n",
              "      <td>7</td>\n",
              "      <td>0</td>\n",
              "      <td>12</td>\n",
              "      <td>41</td>\n",
              "      <td>6</td>\n",
              "      <td>...</td>\n",
              "      <td>49</td>\n",
              "      <td>58</td>\n",
              "      <td>51</td>\n",
              "      <td>51</td>\n",
              "      <td>32</td>\n",
              "      <td>50</td>\n",
              "      <td>48</td>\n",
              "      <td>50</td>\n",
              "      <td>50</td>\n",
              "      <td>0</td>\n",
              "    </tr>\n",
              "    <tr>\n",
              "      <th>1</th>\n",
              "      <td>0</td>\n",
              "      <td>12</td>\n",
              "      <td>41</td>\n",
              "      <td>155</td>\n",
              "      <td>247</td>\n",
              "      <td>7</td>\n",
              "      <td>0</td>\n",
              "      <td>12</td>\n",
              "      <td>41</td>\n",
              "      <td>6</td>\n",
              "      <td>...</td>\n",
              "      <td>49</td>\n",
              "      <td>58</td>\n",
              "      <td>51</td>\n",
              "      <td>51</td>\n",
              "      <td>32</td>\n",
              "      <td>50</td>\n",
              "      <td>48</td>\n",
              "      <td>50</td>\n",
              "      <td>50</td>\n",
              "      <td>0</td>\n",
              "    </tr>\n",
              "    <tr>\n",
              "      <th>2</th>\n",
              "      <td>0</td>\n",
              "      <td>12</td>\n",
              "      <td>41</td>\n",
              "      <td>155</td>\n",
              "      <td>247</td>\n",
              "      <td>7</td>\n",
              "      <td>0</td>\n",
              "      <td>12</td>\n",
              "      <td>41</td>\n",
              "      <td>6</td>\n",
              "      <td>...</td>\n",
              "      <td>49</td>\n",
              "      <td>58</td>\n",
              "      <td>51</td>\n",
              "      <td>51</td>\n",
              "      <td>32</td>\n",
              "      <td>50</td>\n",
              "      <td>48</td>\n",
              "      <td>50</td>\n",
              "      <td>50</td>\n",
              "      <td>0</td>\n",
              "    </tr>\n",
              "    <tr>\n",
              "      <th>3</th>\n",
              "      <td>0</td>\n",
              "      <td>12</td>\n",
              "      <td>41</td>\n",
              "      <td>155</td>\n",
              "      <td>247</td>\n",
              "      <td>7</td>\n",
              "      <td>0</td>\n",
              "      <td>12</td>\n",
              "      <td>41</td>\n",
              "      <td>6</td>\n",
              "      <td>...</td>\n",
              "      <td>49</td>\n",
              "      <td>58</td>\n",
              "      <td>51</td>\n",
              "      <td>51</td>\n",
              "      <td>32</td>\n",
              "      <td>50</td>\n",
              "      <td>48</td>\n",
              "      <td>50</td>\n",
              "      <td>50</td>\n",
              "      <td>0</td>\n",
              "    </tr>\n",
              "    <tr>\n",
              "      <th>4</th>\n",
              "      <td>0</td>\n",
              "      <td>12</td>\n",
              "      <td>41</td>\n",
              "      <td>155</td>\n",
              "      <td>247</td>\n",
              "      <td>7</td>\n",
              "      <td>0</td>\n",
              "      <td>12</td>\n",
              "      <td>41</td>\n",
              "      <td>6</td>\n",
              "      <td>...</td>\n",
              "      <td>49</td>\n",
              "      <td>58</td>\n",
              "      <td>51</td>\n",
              "      <td>51</td>\n",
              "      <td>32</td>\n",
              "      <td>50</td>\n",
              "      <td>48</td>\n",
              "      <td>50</td>\n",
              "      <td>50</td>\n",
              "      <td>0</td>\n",
              "    </tr>\n",
              "    <tr>\n",
              "      <th>...</th>\n",
              "      <td>...</td>\n",
              "      <td>...</td>\n",
              "      <td>...</td>\n",
              "      <td>...</td>\n",
              "      <td>...</td>\n",
              "      <td>...</td>\n",
              "      <td>...</td>\n",
              "      <td>...</td>\n",
              "      <td>...</td>\n",
              "      <td>...</td>\n",
              "      <td>...</td>\n",
              "      <td>...</td>\n",
              "      <td>...</td>\n",
              "      <td>...</td>\n",
              "      <td>...</td>\n",
              "      <td>...</td>\n",
              "      <td>...</td>\n",
              "      <td>...</td>\n",
              "      <td>...</td>\n",
              "      <td>...</td>\n",
              "      <td>...</td>\n",
              "    </tr>\n",
              "    <tr>\n",
              "      <th>77312</th>\n",
              "      <td>0</td>\n",
              "      <td>12</td>\n",
              "      <td>41</td>\n",
              "      <td>155</td>\n",
              "      <td>247</td>\n",
              "      <td>7</td>\n",
              "      <td>0</td>\n",
              "      <td>12</td>\n",
              "      <td>41</td>\n",
              "      <td>6</td>\n",
              "      <td>...</td>\n",
              "      <td>53</td>\n",
              "      <td>58</td>\n",
              "      <td>50</td>\n",
              "      <td>49</td>\n",
              "      <td>32</td>\n",
              "      <td>50</td>\n",
              "      <td>48</td>\n",
              "      <td>50</td>\n",
              "      <td>50</td>\n",
              "      <td>1</td>\n",
              "    </tr>\n",
              "    <tr>\n",
              "      <th>77313</th>\n",
              "      <td>0</td>\n",
              "      <td>12</td>\n",
              "      <td>41</td>\n",
              "      <td>155</td>\n",
              "      <td>247</td>\n",
              "      <td>7</td>\n",
              "      <td>0</td>\n",
              "      <td>12</td>\n",
              "      <td>41</td>\n",
              "      <td>6</td>\n",
              "      <td>...</td>\n",
              "      <td>53</td>\n",
              "      <td>58</td>\n",
              "      <td>50</td>\n",
              "      <td>49</td>\n",
              "      <td>32</td>\n",
              "      <td>50</td>\n",
              "      <td>48</td>\n",
              "      <td>50</td>\n",
              "      <td>50</td>\n",
              "      <td>1</td>\n",
              "    </tr>\n",
              "    <tr>\n",
              "      <th>77314</th>\n",
              "      <td>0</td>\n",
              "      <td>12</td>\n",
              "      <td>41</td>\n",
              "      <td>155</td>\n",
              "      <td>247</td>\n",
              "      <td>7</td>\n",
              "      <td>0</td>\n",
              "      <td>12</td>\n",
              "      <td>41</td>\n",
              "      <td>6</td>\n",
              "      <td>...</td>\n",
              "      <td>102</td>\n",
              "      <td>113</td>\n",
              "      <td>113</td>\n",
              "      <td>119</td>\n",
              "      <td>97</td>\n",
              "      <td>108</td>\n",
              "      <td>113</td>\n",
              "      <td>108</td>\n",
              "      <td>107</td>\n",
              "      <td>1</td>\n",
              "    </tr>\n",
              "    <tr>\n",
              "      <th>77315</th>\n",
              "      <td>0</td>\n",
              "      <td>12</td>\n",
              "      <td>41</td>\n",
              "      <td>155</td>\n",
              "      <td>247</td>\n",
              "      <td>7</td>\n",
              "      <td>0</td>\n",
              "      <td>12</td>\n",
              "      <td>41</td>\n",
              "      <td>6</td>\n",
              "      <td>...</td>\n",
              "      <td>53</td>\n",
              "      <td>58</td>\n",
              "      <td>50</td>\n",
              "      <td>49</td>\n",
              "      <td>32</td>\n",
              "      <td>50</td>\n",
              "      <td>48</td>\n",
              "      <td>50</td>\n",
              "      <td>50</td>\n",
              "      <td>1</td>\n",
              "    </tr>\n",
              "    <tr>\n",
              "      <th>77316</th>\n",
              "      <td>0</td>\n",
              "      <td>12</td>\n",
              "      <td>41</td>\n",
              "      <td>155</td>\n",
              "      <td>247</td>\n",
              "      <td>7</td>\n",
              "      <td>0</td>\n",
              "      <td>12</td>\n",
              "      <td>41</td>\n",
              "      <td>6</td>\n",
              "      <td>...</td>\n",
              "      <td>53</td>\n",
              "      <td>58</td>\n",
              "      <td>50</td>\n",
              "      <td>49</td>\n",
              "      <td>32</td>\n",
              "      <td>50</td>\n",
              "      <td>48</td>\n",
              "      <td>50</td>\n",
              "      <td>50</td>\n",
              "      <td>1</td>\n",
              "    </tr>\n",
              "  </tbody>\n",
              "</table>\n",
              "<p>77317 rows × 113 columns</p>\n",
              "</div>\n",
              "      <button class=\"colab-df-convert\" onclick=\"convertToInteractive('df-a9c7c57b-62da-48ef-8a25-d6e47be51f81')\"\n",
              "              title=\"Convert this dataframe to an interactive table.\"\n",
              "              style=\"display:none;\">\n",
              "        \n",
              "  <svg xmlns=\"http://www.w3.org/2000/svg\" height=\"24px\"viewBox=\"0 0 24 24\"\n",
              "       width=\"24px\">\n",
              "    <path d=\"M0 0h24v24H0V0z\" fill=\"none\"/>\n",
              "    <path d=\"M18.56 5.44l.94 2.06.94-2.06 2.06-.94-2.06-.94-.94-2.06-.94 2.06-2.06.94zm-11 1L8.5 8.5l.94-2.06 2.06-.94-2.06-.94L8.5 2.5l-.94 2.06-2.06.94zm10 10l.94 2.06.94-2.06 2.06-.94-2.06-.94-.94-2.06-.94 2.06-2.06.94z\"/><path d=\"M17.41 7.96l-1.37-1.37c-.4-.4-.92-.59-1.43-.59-.52 0-1.04.2-1.43.59L10.3 9.45l-7.72 7.72c-.78.78-.78 2.05 0 2.83L4 21.41c.39.39.9.59 1.41.59.51 0 1.02-.2 1.41-.59l7.78-7.78 2.81-2.81c.8-.78.8-2.07 0-2.86zM5.41 20L4 18.59l7.72-7.72 1.47 1.35L5.41 20z\"/>\n",
              "  </svg>\n",
              "      </button>\n",
              "      \n",
              "  <style>\n",
              "    .colab-df-container {\n",
              "      display:flex;\n",
              "      flex-wrap:wrap;\n",
              "      gap: 12px;\n",
              "    }\n",
              "\n",
              "    .colab-df-convert {\n",
              "      background-color: #E8F0FE;\n",
              "      border: none;\n",
              "      border-radius: 50%;\n",
              "      cursor: pointer;\n",
              "      display: none;\n",
              "      fill: #1967D2;\n",
              "      height: 32px;\n",
              "      padding: 0 0 0 0;\n",
              "      width: 32px;\n",
              "    }\n",
              "\n",
              "    .colab-df-convert:hover {\n",
              "      background-color: #E2EBFA;\n",
              "      box-shadow: 0px 1px 2px rgba(60, 64, 67, 0.3), 0px 1px 3px 1px rgba(60, 64, 67, 0.15);\n",
              "      fill: #174EA6;\n",
              "    }\n",
              "\n",
              "    [theme=dark] .colab-df-convert {\n",
              "      background-color: #3B4455;\n",
              "      fill: #D2E3FC;\n",
              "    }\n",
              "\n",
              "    [theme=dark] .colab-df-convert:hover {\n",
              "      background-color: #434B5C;\n",
              "      box-shadow: 0px 1px 3px 1px rgba(0, 0, 0, 0.15);\n",
              "      filter: drop-shadow(0px 1px 2px rgba(0, 0, 0, 0.3));\n",
              "      fill: #FFFFFF;\n",
              "    }\n",
              "  </style>\n",
              "\n",
              "      <script>\n",
              "        const buttonEl =\n",
              "          document.querySelector('#df-a9c7c57b-62da-48ef-8a25-d6e47be51f81 button.colab-df-convert');\n",
              "        buttonEl.style.display =\n",
              "          google.colab.kernel.accessAllowed ? 'block' : 'none';\n",
              "\n",
              "        async function convertToInteractive(key) {\n",
              "          const element = document.querySelector('#df-a9c7c57b-62da-48ef-8a25-d6e47be51f81');\n",
              "          const dataTable =\n",
              "            await google.colab.kernel.invokeFunction('convertToInteractive',\n",
              "                                                     [key], {});\n",
              "          if (!dataTable) return;\n",
              "\n",
              "          const docLinkHtml = 'Like what you see? Visit the ' +\n",
              "            '<a target=\"_blank\" href=https://colab.research.google.com/notebooks/data_table.ipynb>data table notebook</a>'\n",
              "            + ' to learn more about interactive tables.';\n",
              "          element.innerHTML = '';\n",
              "          dataTable['output_type'] = 'display_data';\n",
              "          await google.colab.output.renderOutput(dataTable, element);\n",
              "          const docLink = document.createElement('div');\n",
              "          docLink.innerHTML = docLinkHtml;\n",
              "          element.appendChild(docLink);\n",
              "        }\n",
              "      </script>\n",
              "    </div>\n",
              "  </div>\n",
              "  "
            ]
          },
          "metadata": {},
          "execution_count": 28
        }
      ]
    },
    {
      "cell_type": "code",
      "source": [
        "data = data.sample(frac=1)"
      ],
      "metadata": {
        "id": "m-ocIuSX5e04"
      },
      "execution_count": null,
      "outputs": []
    },
    {
      "cell_type": "code",
      "source": [
        "data"
      ],
      "metadata": {
        "colab": {
          "base_uri": "https://localhost:8080/",
          "height": 424
        },
        "id": "13rhKaceSFlE",
        "outputId": "a5e1ef91-8131-4aea-ec2d-d034eddf3289"
      },
      "execution_count": null,
      "outputs": [
        {
          "output_type": "execute_result",
          "data": {
            "text/plain": [
              "       0e  1e  2e   3e   4e  5e  6e  7e  8e  9e  ...  103e  104e  105e  106e  \\\n",
              "42195   0  12  41  155  247   7   0  12  41   6  ...    50    58    51    52   \n",
              "77238   0  12  41  155  247   7   0  12  41   6  ...    53    58    49    53   \n",
              "25509   0  12  41  155  247   7   0  12  41   6  ...    52    58    50    57   \n",
              "7187    0  12  41  155  247   7   0  12  41   6  ...    51    58    51    57   \n",
              "64899   0  12  41  155  247   7   0  12  41   6  ...   115   109    98   103   \n",
              "...    ..  ..  ..  ...  ...  ..  ..  ..  ..  ..  ...   ...   ...   ...   ...   \n",
              "70571   0  12  41  155  247   7   0  12  41   6  ...    53    58    53    48   \n",
              "70960   0  12  41  155  247   7   0  12  41   6  ...    54    58    50    51   \n",
              "36630   0  12  41  155  247   7   0  12  41   6  ...    51    58    49    50   \n",
              "31777   0  12  41  155  247   7   0  12  41   6  ...    53    58    48    50   \n",
              "54959   0  12  41  155  247   7   0  12  41   6  ...   108   120   103   122   \n",
              "\n",
              "       107e  108e  109e  110e  111e  label  \n",
              "42195    32    50    48    50    50      0  \n",
              "77238    32    50    48    50    50      1  \n",
              "25509    32    50    48    50    50      0  \n",
              "7187     32    50    48    50    50      0  \n",
              "64899   102    99   113   108   122      1  \n",
              "...     ...   ...   ...   ...   ...    ...  \n",
              "70571    32    50    48    50    50      1  \n",
              "70960    32    50    48    50    50      1  \n",
              "36630    32    50    48    50    50      0  \n",
              "31777    32    50    48    50    50      0  \n",
              "54959   114   101   114   107   121      1  \n",
              "\n",
              "[77317 rows x 113 columns]"
            ],
            "text/html": [
              "\n",
              "  <div id=\"df-4158891b-625c-4c58-8f34-2ada2fbe52d8\">\n",
              "    <div class=\"colab-df-container\">\n",
              "      <div>\n",
              "<style scoped>\n",
              "    .dataframe tbody tr th:only-of-type {\n",
              "        vertical-align: middle;\n",
              "    }\n",
              "\n",
              "    .dataframe tbody tr th {\n",
              "        vertical-align: top;\n",
              "    }\n",
              "\n",
              "    .dataframe thead th {\n",
              "        text-align: right;\n",
              "    }\n",
              "</style>\n",
              "<table border=\"1\" class=\"dataframe\">\n",
              "  <thead>\n",
              "    <tr style=\"text-align: right;\">\n",
              "      <th></th>\n",
              "      <th>0e</th>\n",
              "      <th>1e</th>\n",
              "      <th>2e</th>\n",
              "      <th>3e</th>\n",
              "      <th>4e</th>\n",
              "      <th>5e</th>\n",
              "      <th>6e</th>\n",
              "      <th>7e</th>\n",
              "      <th>8e</th>\n",
              "      <th>9e</th>\n",
              "      <th>...</th>\n",
              "      <th>103e</th>\n",
              "      <th>104e</th>\n",
              "      <th>105e</th>\n",
              "      <th>106e</th>\n",
              "      <th>107e</th>\n",
              "      <th>108e</th>\n",
              "      <th>109e</th>\n",
              "      <th>110e</th>\n",
              "      <th>111e</th>\n",
              "      <th>label</th>\n",
              "    </tr>\n",
              "  </thead>\n",
              "  <tbody>\n",
              "    <tr>\n",
              "      <th>42195</th>\n",
              "      <td>0</td>\n",
              "      <td>12</td>\n",
              "      <td>41</td>\n",
              "      <td>155</td>\n",
              "      <td>247</td>\n",
              "      <td>7</td>\n",
              "      <td>0</td>\n",
              "      <td>12</td>\n",
              "      <td>41</td>\n",
              "      <td>6</td>\n",
              "      <td>...</td>\n",
              "      <td>50</td>\n",
              "      <td>58</td>\n",
              "      <td>51</td>\n",
              "      <td>52</td>\n",
              "      <td>32</td>\n",
              "      <td>50</td>\n",
              "      <td>48</td>\n",
              "      <td>50</td>\n",
              "      <td>50</td>\n",
              "      <td>0</td>\n",
              "    </tr>\n",
              "    <tr>\n",
              "      <th>77238</th>\n",
              "      <td>0</td>\n",
              "      <td>12</td>\n",
              "      <td>41</td>\n",
              "      <td>155</td>\n",
              "      <td>247</td>\n",
              "      <td>7</td>\n",
              "      <td>0</td>\n",
              "      <td>12</td>\n",
              "      <td>41</td>\n",
              "      <td>6</td>\n",
              "      <td>...</td>\n",
              "      <td>53</td>\n",
              "      <td>58</td>\n",
              "      <td>49</td>\n",
              "      <td>53</td>\n",
              "      <td>32</td>\n",
              "      <td>50</td>\n",
              "      <td>48</td>\n",
              "      <td>50</td>\n",
              "      <td>50</td>\n",
              "      <td>1</td>\n",
              "    </tr>\n",
              "    <tr>\n",
              "      <th>25509</th>\n",
              "      <td>0</td>\n",
              "      <td>12</td>\n",
              "      <td>41</td>\n",
              "      <td>155</td>\n",
              "      <td>247</td>\n",
              "      <td>7</td>\n",
              "      <td>0</td>\n",
              "      <td>12</td>\n",
              "      <td>41</td>\n",
              "      <td>6</td>\n",
              "      <td>...</td>\n",
              "      <td>52</td>\n",
              "      <td>58</td>\n",
              "      <td>50</td>\n",
              "      <td>57</td>\n",
              "      <td>32</td>\n",
              "      <td>50</td>\n",
              "      <td>48</td>\n",
              "      <td>50</td>\n",
              "      <td>50</td>\n",
              "      <td>0</td>\n",
              "    </tr>\n",
              "    <tr>\n",
              "      <th>7187</th>\n",
              "      <td>0</td>\n",
              "      <td>12</td>\n",
              "      <td>41</td>\n",
              "      <td>155</td>\n",
              "      <td>247</td>\n",
              "      <td>7</td>\n",
              "      <td>0</td>\n",
              "      <td>12</td>\n",
              "      <td>41</td>\n",
              "      <td>6</td>\n",
              "      <td>...</td>\n",
              "      <td>51</td>\n",
              "      <td>58</td>\n",
              "      <td>51</td>\n",
              "      <td>57</td>\n",
              "      <td>32</td>\n",
              "      <td>50</td>\n",
              "      <td>48</td>\n",
              "      <td>50</td>\n",
              "      <td>50</td>\n",
              "      <td>0</td>\n",
              "    </tr>\n",
              "    <tr>\n",
              "      <th>64899</th>\n",
              "      <td>0</td>\n",
              "      <td>12</td>\n",
              "      <td>41</td>\n",
              "      <td>155</td>\n",
              "      <td>247</td>\n",
              "      <td>7</td>\n",
              "      <td>0</td>\n",
              "      <td>12</td>\n",
              "      <td>41</td>\n",
              "      <td>6</td>\n",
              "      <td>...</td>\n",
              "      <td>115</td>\n",
              "      <td>109</td>\n",
              "      <td>98</td>\n",
              "      <td>103</td>\n",
              "      <td>102</td>\n",
              "      <td>99</td>\n",
              "      <td>113</td>\n",
              "      <td>108</td>\n",
              "      <td>122</td>\n",
              "      <td>1</td>\n",
              "    </tr>\n",
              "    <tr>\n",
              "      <th>...</th>\n",
              "      <td>...</td>\n",
              "      <td>...</td>\n",
              "      <td>...</td>\n",
              "      <td>...</td>\n",
              "      <td>...</td>\n",
              "      <td>...</td>\n",
              "      <td>...</td>\n",
              "      <td>...</td>\n",
              "      <td>...</td>\n",
              "      <td>...</td>\n",
              "      <td>...</td>\n",
              "      <td>...</td>\n",
              "      <td>...</td>\n",
              "      <td>...</td>\n",
              "      <td>...</td>\n",
              "      <td>...</td>\n",
              "      <td>...</td>\n",
              "      <td>...</td>\n",
              "      <td>...</td>\n",
              "      <td>...</td>\n",
              "      <td>...</td>\n",
              "    </tr>\n",
              "    <tr>\n",
              "      <th>70571</th>\n",
              "      <td>0</td>\n",
              "      <td>12</td>\n",
              "      <td>41</td>\n",
              "      <td>155</td>\n",
              "      <td>247</td>\n",
              "      <td>7</td>\n",
              "      <td>0</td>\n",
              "      <td>12</td>\n",
              "      <td>41</td>\n",
              "      <td>6</td>\n",
              "      <td>...</td>\n",
              "      <td>53</td>\n",
              "      <td>58</td>\n",
              "      <td>53</td>\n",
              "      <td>48</td>\n",
              "      <td>32</td>\n",
              "      <td>50</td>\n",
              "      <td>48</td>\n",
              "      <td>50</td>\n",
              "      <td>50</td>\n",
              "      <td>1</td>\n",
              "    </tr>\n",
              "    <tr>\n",
              "      <th>70960</th>\n",
              "      <td>0</td>\n",
              "      <td>12</td>\n",
              "      <td>41</td>\n",
              "      <td>155</td>\n",
              "      <td>247</td>\n",
              "      <td>7</td>\n",
              "      <td>0</td>\n",
              "      <td>12</td>\n",
              "      <td>41</td>\n",
              "      <td>6</td>\n",
              "      <td>...</td>\n",
              "      <td>54</td>\n",
              "      <td>58</td>\n",
              "      <td>50</td>\n",
              "      <td>51</td>\n",
              "      <td>32</td>\n",
              "      <td>50</td>\n",
              "      <td>48</td>\n",
              "      <td>50</td>\n",
              "      <td>50</td>\n",
              "      <td>1</td>\n",
              "    </tr>\n",
              "    <tr>\n",
              "      <th>36630</th>\n",
              "      <td>0</td>\n",
              "      <td>12</td>\n",
              "      <td>41</td>\n",
              "      <td>155</td>\n",
              "      <td>247</td>\n",
              "      <td>7</td>\n",
              "      <td>0</td>\n",
              "      <td>12</td>\n",
              "      <td>41</td>\n",
              "      <td>6</td>\n",
              "      <td>...</td>\n",
              "      <td>51</td>\n",
              "      <td>58</td>\n",
              "      <td>49</td>\n",
              "      <td>50</td>\n",
              "      <td>32</td>\n",
              "      <td>50</td>\n",
              "      <td>48</td>\n",
              "      <td>50</td>\n",
              "      <td>50</td>\n",
              "      <td>0</td>\n",
              "    </tr>\n",
              "    <tr>\n",
              "      <th>31777</th>\n",
              "      <td>0</td>\n",
              "      <td>12</td>\n",
              "      <td>41</td>\n",
              "      <td>155</td>\n",
              "      <td>247</td>\n",
              "      <td>7</td>\n",
              "      <td>0</td>\n",
              "      <td>12</td>\n",
              "      <td>41</td>\n",
              "      <td>6</td>\n",
              "      <td>...</td>\n",
              "      <td>53</td>\n",
              "      <td>58</td>\n",
              "      <td>48</td>\n",
              "      <td>50</td>\n",
              "      <td>32</td>\n",
              "      <td>50</td>\n",
              "      <td>48</td>\n",
              "      <td>50</td>\n",
              "      <td>50</td>\n",
              "      <td>0</td>\n",
              "    </tr>\n",
              "    <tr>\n",
              "      <th>54959</th>\n",
              "      <td>0</td>\n",
              "      <td>12</td>\n",
              "      <td>41</td>\n",
              "      <td>155</td>\n",
              "      <td>247</td>\n",
              "      <td>7</td>\n",
              "      <td>0</td>\n",
              "      <td>12</td>\n",
              "      <td>41</td>\n",
              "      <td>6</td>\n",
              "      <td>...</td>\n",
              "      <td>108</td>\n",
              "      <td>120</td>\n",
              "      <td>103</td>\n",
              "      <td>122</td>\n",
              "      <td>114</td>\n",
              "      <td>101</td>\n",
              "      <td>114</td>\n",
              "      <td>107</td>\n",
              "      <td>121</td>\n",
              "      <td>1</td>\n",
              "    </tr>\n",
              "  </tbody>\n",
              "</table>\n",
              "<p>77317 rows × 113 columns</p>\n",
              "</div>\n",
              "      <button class=\"colab-df-convert\" onclick=\"convertToInteractive('df-4158891b-625c-4c58-8f34-2ada2fbe52d8')\"\n",
              "              title=\"Convert this dataframe to an interactive table.\"\n",
              "              style=\"display:none;\">\n",
              "        \n",
              "  <svg xmlns=\"http://www.w3.org/2000/svg\" height=\"24px\"viewBox=\"0 0 24 24\"\n",
              "       width=\"24px\">\n",
              "    <path d=\"M0 0h24v24H0V0z\" fill=\"none\"/>\n",
              "    <path d=\"M18.56 5.44l.94 2.06.94-2.06 2.06-.94-2.06-.94-.94-2.06-.94 2.06-2.06.94zm-11 1L8.5 8.5l.94-2.06 2.06-.94-2.06-.94L8.5 2.5l-.94 2.06-2.06.94zm10 10l.94 2.06.94-2.06 2.06-.94-2.06-.94-.94-2.06-.94 2.06-2.06.94z\"/><path d=\"M17.41 7.96l-1.37-1.37c-.4-.4-.92-.59-1.43-.59-.52 0-1.04.2-1.43.59L10.3 9.45l-7.72 7.72c-.78.78-.78 2.05 0 2.83L4 21.41c.39.39.9.59 1.41.59.51 0 1.02-.2 1.41-.59l7.78-7.78 2.81-2.81c.8-.78.8-2.07 0-2.86zM5.41 20L4 18.59l7.72-7.72 1.47 1.35L5.41 20z\"/>\n",
              "  </svg>\n",
              "      </button>\n",
              "      \n",
              "  <style>\n",
              "    .colab-df-container {\n",
              "      display:flex;\n",
              "      flex-wrap:wrap;\n",
              "      gap: 12px;\n",
              "    }\n",
              "\n",
              "    .colab-df-convert {\n",
              "      background-color: #E8F0FE;\n",
              "      border: none;\n",
              "      border-radius: 50%;\n",
              "      cursor: pointer;\n",
              "      display: none;\n",
              "      fill: #1967D2;\n",
              "      height: 32px;\n",
              "      padding: 0 0 0 0;\n",
              "      width: 32px;\n",
              "    }\n",
              "\n",
              "    .colab-df-convert:hover {\n",
              "      background-color: #E2EBFA;\n",
              "      box-shadow: 0px 1px 2px rgba(60, 64, 67, 0.3), 0px 1px 3px 1px rgba(60, 64, 67, 0.15);\n",
              "      fill: #174EA6;\n",
              "    }\n",
              "\n",
              "    [theme=dark] .colab-df-convert {\n",
              "      background-color: #3B4455;\n",
              "      fill: #D2E3FC;\n",
              "    }\n",
              "\n",
              "    [theme=dark] .colab-df-convert:hover {\n",
              "      background-color: #434B5C;\n",
              "      box-shadow: 0px 1px 3px 1px rgba(0, 0, 0, 0.15);\n",
              "      filter: drop-shadow(0px 1px 2px rgba(0, 0, 0, 0.3));\n",
              "      fill: #FFFFFF;\n",
              "    }\n",
              "  </style>\n",
              "\n",
              "      <script>\n",
              "        const buttonEl =\n",
              "          document.querySelector('#df-4158891b-625c-4c58-8f34-2ada2fbe52d8 button.colab-df-convert');\n",
              "        buttonEl.style.display =\n",
              "          google.colab.kernel.accessAllowed ? 'block' : 'none';\n",
              "\n",
              "        async function convertToInteractive(key) {\n",
              "          const element = document.querySelector('#df-4158891b-625c-4c58-8f34-2ada2fbe52d8');\n",
              "          const dataTable =\n",
              "            await google.colab.kernel.invokeFunction('convertToInteractive',\n",
              "                                                     [key], {});\n",
              "          if (!dataTable) return;\n",
              "\n",
              "          const docLinkHtml = 'Like what you see? Visit the ' +\n",
              "            '<a target=\"_blank\" href=https://colab.research.google.com/notebooks/data_table.ipynb>data table notebook</a>'\n",
              "            + ' to learn more about interactive tables.';\n",
              "          element.innerHTML = '';\n",
              "          dataTable['output_type'] = 'display_data';\n",
              "          await google.colab.output.renderOutput(dataTable, element);\n",
              "          const docLink = document.createElement('div');\n",
              "          docLink.innerHTML = docLinkHtml;\n",
              "          element.appendChild(docLink);\n",
              "        }\n",
              "      </script>\n",
              "    </div>\n",
              "  </div>\n",
              "  "
            ]
          },
          "metadata": {},
          "execution_count": 30
        }
      ]
    },
    {
      "cell_type": "code",
      "source": [
        "from sklearn.decomposition import PCA\n",
        "pca = PCA(n_components=2)\n",
        "X = pca.fit_transform(data.drop(['label'], axis=1))"
      ],
      "metadata": {
        "id": "po1aoXvz8Mud"
      },
      "execution_count": null,
      "outputs": []
    },
    {
      "cell_type": "code",
      "source": [
        "import matplotlib.pyplot as plt\n",
        "plt.scatter(X[:, 0], X[:, 1])"
      ],
      "metadata": {
        "colab": {
          "base_uri": "https://localhost:8080/",
          "height": 282
        },
        "id": "2BgLPvE8SuTi",
        "outputId": "b52e52ec-77c2-45dc-ae0d-e53fdac8fbdb"
      },
      "execution_count": null,
      "outputs": [
        {
          "output_type": "execute_result",
          "data": {
            "text/plain": [
              "<matplotlib.collections.PathCollection at 0x7f2a5b57e3a0>"
            ]
          },
          "metadata": {},
          "execution_count": 39
        },
        {
          "output_type": "display_data",
          "data": {
            "text/plain": [
              "<Figure size 432x288 with 1 Axes>"
            ],
            "image/png": "[encoded data removed]"
          },
          "metadata": {
            "needs_background": "light"
          }
        }
      ]
    },
    {
      "cell_type": "code",
      "source": [
        "import seaborn as sns\n",
        "df = pd.DataFrame(X, columns=['e1', 'e2'])\n",
        "df['label'] = y"
      ],
      "metadata": {
        "id": "iWBtaE_tTApL"
      },
      "execution_count": null,
      "outputs": []
    },
    {
      "cell_type": "code",
      "source": [
        "plt.figure(figsize=(10, 10))\n",
        "sns.scatterplot(data=df,x='e1', y='e2', hue='label', s=0.1)"
      ],
      "metadata": {
        "colab": {
          "base_uri": "https://localhost:8080/",
          "height": 623
        },
        "id": "aYuUqA_uTON5",
        "outputId": "17516ddf-9870-4dd9-f64b-6514c25c9277"
      },
      "execution_count": null,
      "outputs": [
        {
          "output_type": "execute_result",
          "data": {
            "text/plain": [
              "<matplotlib.axes._subplots.AxesSubplot at 0x7f2a5ae3cd60>"
            ]
          },
          "metadata": {},
          "execution_count": 45
        },
        {
          "output_type": "display_data",
          "data": {
            "text/plain": [
              "<Figure size 720x720 with 1 Axes>"
            ],
            "image/png": "[encoded data removed]"
          },
          "metadata": {
            "needs_background": "light"
          }
        }
      ]
    },
    {
      "cell_type": "code",
      "source": [
        "y = data['label']"
      ],
      "metadata": {
        "id": "BTVYDd9cQaup"
      },
      "execution_count": null,
      "outputs": []
    },
    {
      "cell_type": "code",
      "source": [
        "from sklearn.model_selection import train_test_split\n",
        "\n",
        "X_train, X_test, y_train, y_test = train_test_split(X, y, test_size=0.2, random_state=123)"
      ],
      "metadata": {
        "id": "YDrlaJhmQeMj"
      },
      "execution_count": null,
      "outputs": []
    },
    {
      "cell_type": "code",
      "source": [
        "from catboost import CatBoostClassifier\n",
        "\n",
        "clf = CatBoostClassifier(\n",
        "    \n",
        ")\n",
        "\n",
        "\n",
        "clf.fit(X_train, y_train, \n",
        "       \n",
        "        verbose=10\n",
        ")\n",
        "\n",
        "print('CatBoost model is fitted: ' + str(clf.is_fitted()))\n",
        "print('CatBoost model parameters:')\n",
        "print(clf.get_params())"
      ],
      "metadata": {
        "colab": {
          "base_uri": "https://localhost:8080/"
        },
        "id": "lkGR0r31QePc",
        "outputId": "225bc303-edbd-4905-ac41-58ffe4c22047"
      },
      "execution_count": null,
      "outputs": [
        {
          "output_type": "stream",
          "name": "stdout",
          "text": [
            "Learning rate set to 0.059958\n",
            "0:\tlearn: 0.4769167\ttotal: 71.8ms\tremaining: 1m 11s\n",
            "10:\tlearn: 0.0135887\ttotal: 317ms\tremaining: 28.5s\n",
            "20:\tlearn: 0.0012013\ttotal: 621ms\tremaining: 29s\n",
            "30:\tlearn: 0.0002996\ttotal: 1.06s\tremaining: 33.1s\n",
            "40:\tlearn: 0.0001152\ttotal: 1.31s\tremaining: 30.7s\n",
            "50:\tlearn: 0.0000892\ttotal: 1.52s\tremaining: 28.4s\n",
            "60:\tlearn: 0.0000726\ttotal: 1.77s\tremaining: 27.3s\n",
            "70:\tlearn: 0.0000726\ttotal: 1.99s\tremaining: 26s\n",
            "80:\tlearn: 0.0000726\ttotal: 2.27s\tremaining: 25.7s\n",
            "90:\tlearn: 0.0000716\ttotal: 2.65s\tremaining: 26.4s\n",
            "100:\tlearn: 0.0000707\ttotal: 2.87s\tremaining: 25.6s\n",
            "110:\tlearn: 0.0000707\ttotal: 3.09s\tremaining: 24.8s\n",
            "120:\tlearn: 0.0000699\ttotal: 3.31s\tremaining: 24s\n",
            "130:\tlearn: 0.0000699\ttotal: 3.52s\tremaining: 23.4s\n",
            "140:\tlearn: 0.0000682\ttotal: 3.81s\tremaining: 23.2s\n",
            "150:\tlearn: 0.0000682\ttotal: 4.03s\tremaining: 22.7s\n",
            "160:\tlearn: 0.0000682\ttotal: 4.24s\tremaining: 22.1s\n",
            "170:\tlearn: 0.0000681\ttotal: 4.46s\tremaining: 21.6s\n",
            "180:\tlearn: 0.0000667\ttotal: 4.71s\tremaining: 21.3s\n",
            "190:\tlearn: 0.0000667\ttotal: 4.92s\tremaining: 20.8s\n",
            "200:\tlearn: 0.0000667\ttotal: 5.13s\tremaining: 20.4s\n",
            "210:\tlearn: 0.0000666\ttotal: 5.35s\tremaining: 20s\n",
            "220:\tlearn: 0.0000666\ttotal: 5.96s\tremaining: 21s\n",
            "230:\tlearn: 0.0000666\ttotal: 6.49s\tremaining: 21.6s\n",
            "240:\tlearn: 0.0000666\ttotal: 6.93s\tremaining: 21.8s\n",
            "250:\tlearn: 0.0000666\ttotal: 7.44s\tremaining: 22.2s\n",
            "260:\tlearn: 0.0000666\ttotal: 7.99s\tremaining: 22.6s\n",
            "270:\tlearn: 0.0000666\ttotal: 8.62s\tremaining: 23.2s\n",
            "280:\tlearn: 0.0000666\ttotal: 9.19s\tremaining: 23.5s\n",
            "290:\tlearn: 0.0000666\ttotal: 9.84s\tremaining: 24s\n",
            "300:\tlearn: 0.0000666\ttotal: 10.2s\tremaining: 23.7s\n",
            "310:\tlearn: 0.0000666\ttotal: 10.6s\tremaining: 23.6s\n",
            "320:\tlearn: 0.0000666\ttotal: 11.2s\tremaining: 23.8s\n",
            "330:\tlearn: 0.0000666\ttotal: 11.9s\tremaining: 24s\n",
            "340:\tlearn: 0.0000666\ttotal: 12.4s\tremaining: 24s\n",
            "350:\tlearn: 0.0000666\ttotal: 13.1s\tremaining: 24.3s\n",
            "360:\tlearn: 0.0000666\ttotal: 13.8s\tremaining: 24.4s\n",
            "370:\tlearn: 0.0000666\ttotal: 14.3s\tremaining: 24.3s\n",
            "380:\tlearn: 0.0000666\ttotal: 14.8s\tremaining: 24s\n",
            "390:\tlearn: 0.0000666\ttotal: 15.4s\tremaining: 24s\n",
            "400:\tlearn: 0.0000666\ttotal: 16.1s\tremaining: 24s\n",
            "410:\tlearn: 0.0000666\ttotal: 16.7s\tremaining: 23.9s\n",
            "420:\tlearn: 0.0000666\ttotal: 17.3s\tremaining: 23.7s\n",
            "430:\tlearn: 0.0000666\ttotal: 17.7s\tremaining: 23.3s\n",
            "440:\tlearn: 0.0000666\ttotal: 18.4s\tremaining: 23.3s\n",
            "450:\tlearn: 0.0000666\ttotal: 18.9s\tremaining: 23.1s\n",
            "460:\tlearn: 0.0000666\ttotal: 19.5s\tremaining: 22.8s\n",
            "470:\tlearn: 0.0000666\ttotal: 20s\tremaining: 22.4s\n",
            "480:\tlearn: 0.0000666\ttotal: 20.6s\tremaining: 22.2s\n",
            "490:\tlearn: 0.0000666\ttotal: 21.2s\tremaining: 21.9s\n",
            "500:\tlearn: 0.0000666\ttotal: 21.7s\tremaining: 21.6s\n",
            "510:\tlearn: 0.0000666\ttotal: 22.4s\tremaining: 21.4s\n",
            "520:\tlearn: 0.0000666\ttotal: 23s\tremaining: 21.1s\n",
            "530:\tlearn: 0.0000666\ttotal: 23.6s\tremaining: 20.9s\n",
            "540:\tlearn: 0.0000666\ttotal: 24.2s\tremaining: 20.6s\n",
            "550:\tlearn: 0.0000666\ttotal: 24.9s\tremaining: 20.3s\n",
            "560:\tlearn: 0.0000666\ttotal: 25.4s\tremaining: 19.9s\n",
            "570:\tlearn: 0.0000666\ttotal: 25.9s\tremaining: 19.4s\n",
            "580:\tlearn: 0.0000666\ttotal: 26.4s\tremaining: 19.1s\n",
            "590:\tlearn: 0.0000666\ttotal: 26.9s\tremaining: 18.6s\n",
            "600:\tlearn: 0.0000666\ttotal: 27.4s\tremaining: 18.2s\n",
            "610:\tlearn: 0.0000666\ttotal: 28.2s\tremaining: 18s\n",
            "620:\tlearn: 0.0000666\ttotal: 28.9s\tremaining: 17.6s\n",
            "630:\tlearn: 0.0000666\ttotal: 29.4s\tremaining: 17.2s\n",
            "640:\tlearn: 0.0000666\ttotal: 29.8s\tremaining: 16.7s\n",
            "650:\tlearn: 0.0000666\ttotal: 30.3s\tremaining: 16.2s\n",
            "660:\tlearn: 0.0000666\ttotal: 30.8s\tremaining: 15.8s\n",
            "670:\tlearn: 0.0000666\ttotal: 31s\tremaining: 15.2s\n",
            "680:\tlearn: 0.0000666\ttotal: 31.2s\tremaining: 14.6s\n",
            "690:\tlearn: 0.0000666\ttotal: 31.4s\tremaining: 14.1s\n",
            "700:\tlearn: 0.0000666\ttotal: 31.7s\tremaining: 13.5s\n",
            "710:\tlearn: 0.0000666\ttotal: 31.9s\tremaining: 13s\n",
            "720:\tlearn: 0.0000666\ttotal: 32.1s\tremaining: 12.4s\n",
            "730:\tlearn: 0.0000666\ttotal: 32.3s\tremaining: 11.9s\n",
            "740:\tlearn: 0.0000666\ttotal: 32.5s\tremaining: 11.4s\n",
            "750:\tlearn: 0.0000666\ttotal: 32.7s\tremaining: 10.9s\n",
            "760:\tlearn: 0.0000666\ttotal: 32.9s\tremaining: 10.3s\n",
            "770:\tlearn: 0.0000666\ttotal: 33.1s\tremaining: 9.85s\n",
            "780:\tlearn: 0.0000666\ttotal: 33.4s\tremaining: 9.35s\n",
            "790:\tlearn: 0.0000666\ttotal: 33.6s\tremaining: 8.88s\n",
            "800:\tlearn: 0.0000666\ttotal: 33.8s\tremaining: 8.4s\n",
            "810:\tlearn: 0.0000666\ttotal: 34s\tremaining: 7.93s\n",
            "820:\tlearn: 0.0000666\ttotal: 34.2s\tremaining: 7.46s\n",
            "830:\tlearn: 0.0000666\ttotal: 34.5s\tremaining: 7.01s\n",
            "840:\tlearn: 0.0000666\ttotal: 34.7s\tremaining: 6.55s\n",
            "850:\tlearn: 0.0000666\ttotal: 34.9s\tremaining: 6.11s\n",
            "860:\tlearn: 0.0000666\ttotal: 35.1s\tremaining: 5.66s\n",
            "870:\tlearn: 0.0000666\ttotal: 35.3s\tremaining: 5.23s\n",
            "880:\tlearn: 0.0000666\ttotal: 35.5s\tremaining: 4.8s\n",
            "890:\tlearn: 0.0000666\ttotal: 35.7s\tremaining: 4.37s\n",
            "900:\tlearn: 0.0000666\ttotal: 35.9s\tremaining: 3.95s\n",
            "910:\tlearn: 0.0000666\ttotal: 36.2s\tremaining: 3.53s\n",
            "920:\tlearn: 0.0000666\ttotal: 36.4s\tremaining: 3.12s\n",
            "930:\tlearn: 0.0000666\ttotal: 36.6s\tremaining: 2.71s\n",
            "940:\tlearn: 0.0000666\ttotal: 36.8s\tremaining: 2.31s\n",
            "950:\tlearn: 0.0000666\ttotal: 37s\tremaining: 1.91s\n",
            "960:\tlearn: 0.0000666\ttotal: 37.3s\tremaining: 1.51s\n",
            "970:\tlearn: 0.0000666\ttotal: 37.5s\tremaining: 1.12s\n",
            "980:\tlearn: 0.0000666\ttotal: 37.7s\tremaining: 730ms\n",
            "990:\tlearn: 0.0000666\ttotal: 37.9s\tremaining: 344ms\n",
            "999:\tlearn: 0.0000666\ttotal: 38.1s\tremaining: 0us\n",
            "CatBoost model is fitted: True\n",
            "CatBoost model parameters:\n",
            "{}\n"
          ]
        }
      ]
    },
    {
      "cell_type": "code",
      "source": [
        "!pip install catboost"
      ],
      "metadata": {
        "colab": {
          "base_uri": "https://localhost:8080/"
        },
        "id": "NxUzEfgoQeRh",
        "outputId": "b233a0d9-7fe9-461c-a0a5-89402ff87be3"
      },
      "execution_count": null,
      "outputs": [
        {
          "output_type": "stream",
          "name": "stdout",
          "text": [
            "Looking in indexes: https://pypi.org/simple, https://us-python.pkg.dev/colab-wheels/public/simple/\n",
            "Collecting catboost\n",
            "  Downloading catboost-1.1.1-cp38-none-manylinux1_x86_64.whl (76.6 MB)\n",
            "\u001b[K     |████████████████████████████████| 76.6 MB 30 kB/s \n",
            "\u001b[?25hRequirement already satisfied: graphviz in /usr/local/lib/python3.8/dist-packages (from catboost) (0.10.1)\n",
            "Requirement already satisfied: plotly in /usr/local/lib/python3.8/dist-packages (from catboost) (5.5.0)\n",
            "Requirement already satisfied: pandas>=0.24.0 in /usr/local/lib/python3.8/dist-packages (from catboost) (1.3.5)\n",
            "Requirement already satisfied: scipy in /usr/local/lib/python3.8/dist-packages (from catboost) (1.7.3)\n",
            "Requirement already satisfied: matplotlib in /usr/local/lib/python3.8/dist-packages (from catboost) (3.2.2)\n",
            "Requirement already satisfied: numpy>=1.16.0 in /usr/local/lib/python3.8/dist-packages (from catboost) (1.21.6)\n",
            "Requirement already satisfied: six in /usr/local/lib/python3.8/dist-packages (from catboost) (1.15.0)\n",
            "Requirement already satisfied: python-dateutil>=2.7.3 in /usr/local/lib/python3.8/dist-packages (from pandas>=0.24.0->catboost) (2.8.2)\n",
            "Requirement already satisfied: pytz>=2017.3 in /usr/local/lib/python3.8/dist-packages (from pandas>=0.24.0->catboost) (2022.6)\n",
            "Requirement already satisfied: cycler>=0.10 in /usr/local/lib/python3.8/dist-packages (from matplotlib->catboost) (0.11.0)\n",
            "Requirement already satisfied: pyparsing!=2.0.4,!=2.1.2,!=2.1.6,>=2.0.1 in /usr/local/lib/python3.8/dist-packages (from matplotlib->catboost) (3.0.9)\n",
            "Requirement already satisfied: kiwisolver>=1.0.1 in /usr/local/lib/python3.8/dist-packages (from matplotlib->catboost) (1.4.4)\n",
            "Requirement already satisfied: tenacity>=6.2.0 in /usr/local/lib/python3.8/dist-packages (from plotly->catboost) (8.1.0)\n",
            "Installing collected packages: catboost\n",
            "Successfully installed catboost-1.1.1\n"
          ]
        }
      ]
    },
    {
      "cell_type": "code",
      "source": [
        "y_pred.shape"
      ],
      "metadata": {
        "colab": {
          "base_uri": "https://localhost:8080/"
        },
        "id": "BSoaMrmJVZyP",
        "outputId": "085c7573-b322-4dfa-e112-d96fd6f97090"
      },
      "execution_count": null,
      "outputs": [
        {
          "output_type": "execute_result",
          "data": {
            "text/plain": [
              "(18464,)"
            ]
          },
          "metadata": {},
          "execution_count": 58
        }
      ]
    },
    {
      "cell_type": "code",
      "source": [
        "y_test = qweasd"
      ],
      "metadata": {
        "id": "sUn7P_xAWCFv"
      },
      "execution_count": null,
      "outputs": []
    },
    {
      "cell_type": "code",
      "source": [
        "np.random.randint(0, 2, (3000))"
      ],
      "metadata": {
        "colab": {
          "base_uri": "https://localhost:8080/"
        },
        "id": "Lll-OOB5WK0G",
        "outputId": "c91384f1-966a-4fdd-a83d-71a38ac6f784"
      },
      "execution_count": null,
      "outputs": [
        {
          "output_type": "execute_result",
          "data": {
            "text/plain": [
              "array([1, 1, 1, ..., 0, 0, 0])"
            ]
          },
          "metadata": {},
          "execution_count": 72
        }
      ]
    },
    {
      "cell_type": "code",
      "source": [
        "from sklearn.metrics import classification_report\n",
        "print(classification_report(y_test, y_pred))"
      ],
      "metadata": {
        "colab": {
          "base_uri": "https://localhost:8080/"
        },
        "id": "gtOGVE8RQeZr",
        "outputId": "811ef8be-0d75-4507-b3b1-4d287025753a"
      },
      "execution_count": null,
      "outputs": [
        {
          "output_type": "stream",
          "name": "stdout",
          "text": [
            "              precision    recall  f1-score   support\n",
            "\n",
            "           0       0.88      1.00      0.94     11509\n",
            "           1       1.00      0.78      0.88      6955\n",
            "\n",
            "    accuracy                           0.92     18464\n",
            "   macro avg       0.94      0.89      0.91     18464\n",
            "weighted avg       0.93      0.92      0.92     18464\n",
            "\n"
          ]
        }
      ]
    },
    {
      "cell_type": "code",
      "source": [
        "u, s, v = np.linalg.svd(data.drop(['label'], axis=1))"
      ],
      "metadata": {
        "id": "Qr2bgNmP82VG"
      },
      "execution_count": null,
      "outputs": []
    },
    {
      "cell_type": "code",
      "source": [
        "import matplotlib.pyplot as plt\n",
        "plt.plot(pca.singular_values_)"
      ],
      "metadata": {
        "colab": {
          "base_uri": "https://localhost:8080/",
          "height": 282
        },
        "id": "v_3WT09D8m49",
        "outputId": "ac63904d-9391-463f-c5eb-e8389076bbf4"
      },
      "execution_count": null,
      "outputs": [
        {
          "output_type": "execute_result",
          "data": {
            "text/plain": [
              "[<matplotlib.lines.Line2D at 0x7ff713e3cdc0>]"
            ]
          },
          "metadata": {},
          "execution_count": 16
        },
        {
          "output_type": "display_data",
          "data": {
            "text/plain": [
              "<Figure size 432x288 with 1 Axes>"
            ],
            "image/png": "[encoded data removed]"
          },
          "metadata": {
            "needs_background": "light"
          }
        }
      ]
    },
    {
      "cell_type": "code",
      "source": [
        "from sklearn.ensemble import RandomForestClassifier\n",
        "\n",
        "forest = RandomForestClassifier(random_state=0)\n",
        "forest.fit(data.drop(['label'], axis=1), data['label'])"
      ],
      "metadata": {
        "colab": {
          "base_uri": "https://localhost:8080/"
        },
        "id": "7wjuTHeFQQhy",
        "outputId": "0c4b79f4-5379-42ee-a811-004703bda1be"
      },
      "execution_count": null,
      "outputs": [
        {
          "output_type": "execute_result",
          "data": {
            "text/plain": [
              "RandomForestClassifier(random_state=0)"
            ]
          },
          "metadata": {},
          "execution_count": 30
        }
      ]
    },
    {
      "cell_type": "code",
      "source": [
        "importances = forest.feature_importances_"
      ],
      "metadata": {
        "id": "mJEzvUMAR21N"
      },
      "execution_count": null,
      "outputs": []
    },
    {
      "cell_type": "code",
      "source": [
        "import pandas as pd\n",
        "import matplotlib.pyplot as plt\n",
        "forest_importances = pd.Series(importances, index=data.columns[:-1])\n",
        "std = np.std([tree.feature_importances_ for tree in forest.estimators_], axis=0)\n",
        "fig, ax = plt.subplots(figsize=(20, 18))\n",
        "forest_importances.plot.bar(yerr=std, ax=ax)\n",
        "ax.set_title(\"Feature importances using MDI\")\n",
        "ax.set_ylabel(\"Mean decrease in impurity\")\n",
        "#fig.tight_layout()"
      ],
      "metadata": {
        "colab": {
          "base_uri": "https://localhost:8080/",
          "height": 591
        },
        "id": "tIQkr9VNQQkk",
        "outputId": "7aaded68-4147-4af9-ddb7-efe0b6d38a6f"
      },
      "execution_count": null,
      "outputs": [
        {
          "output_type": "execute_result",
          "data": {
            "text/plain": [
              "Text(0, 0.5, 'Mean decrease in impurity')"
            ]
          },
          "metadata": {},
          "execution_count": 47
        },
        {
          "output_type": "display_data",
          "data": {
            "text/plain": [
              "<Figure size 1440x1296 with 1 Axes>"
            ],
            "image/png": "[encoded data removed]"
          },
          "metadata": {
            "needs_background": "light"
          }
        }
      ]
    },
    {
      "cell_type": "code",
      "source": [
        "data.columns[:-1]"
      ],
      "metadata": {
        "colab": {
          "base_uri": "https://localhost:8080/"
        },
        "id": "xYWBSWIwQQnH",
        "outputId": "51c7d2b9-a808-45e5-f026-194a6bc40af3"
      },
      "execution_count": null,
      "outputs": [
        {
          "output_type": "execute_result",
          "data": {
            "text/plain": [
              "Index(['0e', '1e', '2e', '3e', '4e', '5e', '6e', '7e', '8e', '9e',\n",
              "       ...\n",
              "       '102e', '103e', '104e', '105e', '106e', '107e', '108e', '109e', '110e',\n",
              "       '111e'],\n",
              "      dtype='object', length=112)"
            ]
          },
          "metadata": {},
          "execution_count": 28
        }
      ]
    },
    {
      "cell_type": "code",
      "source": [
        "forest_importances.sort_values(ascending=False)[]"
      ],
      "metadata": {
        "colab": {
          "base_uri": "https://localhost:8080/"
        },
        "id": "UPcZ2gkXQQpi",
        "outputId": "7c1d47f7-2f35-4875-caf8-cf0d0a316968"
      },
      "execution_count": null,
      "outputs": [
        {
          "output_type": "execute_result",
          "data": {
            "text/plain": [
              "62e    0.131589\n",
              "38e    0.125678\n",
              "58e    0.093692\n",
              "36e    0.088173\n",
              "42e    0.085134\n",
              "         ...   \n",
              "32e    0.000000\n",
              "31e    0.000000\n",
              "30e    0.000000\n",
              "29e    0.000000\n",
              "56e    0.000000\n",
              "Length: 112, dtype: float64"
            ]
          },
          "metadata": {},
          "execution_count": 40
        }
      ]
    },
    {
      "cell_type": "code",
      "source": [
        "plt.figure(figsize=(35, 15))\n",
        "plt.plot(forest_importances.sort_values(ascending=False))"
      ],
      "metadata": {
        "colab": {
          "base_uri": "https://localhost:8080/",
          "height": 301
        },
        "id": "p-QPKMHFQQse",
        "outputId": "2aa30deb-b51d-4471-cd0b-70a145be983e"
      },
      "execution_count": null,
      "outputs": [
        {
          "output_type": "execute_result",
          "data": {
            "text/plain": [
              "[<matplotlib.lines.Line2D at 0x7ff70ed07f40>]"
            ]
          },
          "metadata": {},
          "execution_count": 49
        },
        {
          "output_type": "display_data",
          "data": {
            "text/plain": [
              "<Figure size 2520x1080 with 1 Axes>"
            ],
            "image/png": "[encoded data removed]"
          },
          "metadata": {
            "needs_background": "light"
          }
        }
      ]
    },
    {
      "cell_type": "code",
      "source": [
        "forest_importances.sort_values()"
      ],
      "metadata": {
        "colab": {
          "base_uri": "https://localhost:8080/"
        },
        "id": "dQiGge2bQQwD",
        "outputId": "76957dc8-fd79-44e0-c588-7ba0fe6363df"
      },
      "execution_count": null,
      "outputs": [
        {
          "output_type": "execute_result",
          "data": {
            "text/plain": [
              "0e      0.000000\n",
              "1e      0.000000\n",
              "2e      0.000000\n",
              "3e      0.000000\n",
              "4e      0.000000\n",
              "          ...   \n",
              "107e    0.002224\n",
              "108e    0.000000\n",
              "109e    0.000000\n",
              "110e    0.001096\n",
              "111e    0.002219\n",
              "Length: 112, dtype: float64"
            ]
          },
          "metadata": {},
          "execution_count": 51
        }
      ]
    },
    {
      "cell_type": "code",
      "source": [],
      "metadata": {
        "id": "XbN-aLizQOuU"
      },
      "execution_count": null,
      "outputs": []
    },
    {
      "cell_type": "code",
      "source": [],
      "metadata": {
        "id": "8axh5suwQOxI"
      },
      "execution_count": null,
      "outputs": []
    },
    {
      "cell_type": "code",
      "source": [],
      "metadata": {
        "id": "9Cm0wImZQOz4"
      },
      "execution_count": null,
      "outputs": []
    },
    {
      "cell_type": "code",
      "source": [],
      "metadata": {
        "id": "e5-7jVr4QO3X"
      },
      "execution_count": null,
      "outputs": []
    }
  ]
}