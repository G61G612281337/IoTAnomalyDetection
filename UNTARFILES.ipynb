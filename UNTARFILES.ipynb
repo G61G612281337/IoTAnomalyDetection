{
  "nbformat": 4,
  "nbformat_minor": 0,
  "metadata": {
    "colab": {
      "provenance": []
    },
    "kernelspec": {
      "name": "python3",
      "display_name": "Python 3"
    },
    "language_info": {
      "name": "python"
    }
  },
  "cells": [
    {
      "cell_type": "markdown",
      "source": [
        "UNTAR FILES "
      ],
      "metadata": {
        "id": "krSKEeY9gyUk"
      }
    },
    {
      "cell_type": "code",
      "source": [
        "from google.colab import drive\n",
        "drive.mount('/content/drive')"
      ],
      "metadata": {
        "colab": {
          "base_uri": "https://localhost:8080/"
        },
        "id": "5LRlNxZ0gMaa",
        "outputId": "3a57e645-62d5-4975-e530-67e340dae3a5"
      },
      "execution_count": 1,
      "outputs": [
        {
          "output_type": "stream",
          "name": "stdout",
          "text": [
            "Mounted at /content/drive\n"
          ]
        }
      ]
    },
    {
      "cell_type": "code",
      "execution_count": 2,
      "metadata": {
        "colab": {
          "base_uri": "https://localhost:8080/"
        },
        "id": "kP5_iYyPf-6_",
        "outputId": "8a9f7a3a-b86f-46af-d351-2cd2494a4b4b"
      },
      "outputs": [
        {
          "output_type": "stream",
          "name": "stdout",
          "text": [
            "opt/Malware-Project/BigDataset/IoTScenarios/CTU-IoT-Malware-Capture-1-1/bro/conn.log.labeled\n",
            "opt/Malware-Project/BigDataset/IoTScenarios/CTU-IoT-Malware-Capture-17-1/bro/conn.log.labeled\n",
            "opt/Malware-Project/BigDataset/IoTScenarios/CTU-IoT-Malware-Capture-20-1/bro/conn.log.labeled\n",
            "opt/Malware-Project/BigDataset/IoTScenarios/CTU-IoT-Malware-Capture-21-1/bro/conn.log.labeled\n",
            "opt/Malware-Project/BigDataset/IoTScenarios/CTU-IoT-Malware-Capture-3-1/bro/conn.log.labeled\n",
            "opt/Malware-Project/BigDataset/IoTScenarios/CTU-IoT-Malware-Capture-33-1/bro/conn.log.labeled\n",
            "opt/Malware-Project/BigDataset/IoTScenarios/CTU-IoT-Malware-Capture-34-1/bro/conn.log.labeled\n",
            "opt/Malware-Project/BigDataset/IoTScenarios/CTU-IoT-Malware-Capture-35-1/bro/conn.log.labeled\n",
            "opt/Malware-Project/BigDataset/IoTScenarios/CTU-IoT-Malware-Capture-36-1/bro/conn.log.labeled\n",
            "opt/Malware-Project/BigDataset/IoTScenarios/CTU-IoT-Malware-Capture-39-1/bro/conn.log.labeled\n",
            "opt/Malware-Project/BigDataset/IoTScenarios/CTU-IoT-Malware-Capture-42-1/bro/conn.log.labeled\n",
            "opt/Malware-Project/BigDataset/IoTScenarios/CTU-IoT-Malware-Capture-43-1/bro/conn.log.labeled\n",
            "opt/Malware-Project/BigDataset/IoTScenarios/CTU-IoT-Malware-Capture-44-1/bro/conn.log.labeled\n",
            "opt/Malware-Project/BigDataset/IoTScenarios/CTU-IoT-Malware-Capture-48-1/bro/conn.log.labeled\n",
            "opt/Malware-Project/BigDataset/IoTScenarios/CTU-IoT-Malware-Capture-49-1/bro/conn.log.labeled\n",
            "opt/Malware-Project/BigDataset/IoTScenarios/CTU-IoT-Malware-Capture-52-1/bro/conn.log.labeled\n",
            "opt/Malware-Project/BigDataset/IoTScenarios/CTU-IoT-Malware-Capture-60-1/bro/conn.log.labeled\n",
            "opt/Malware-Project/BigDataset/IoTScenarios/CTU-IoT-Malware-Capture-7-1/bro/conn.log.labeled\n",
            "opt/Malware-Project/BigDataset/IoTScenarios/CTU-IoT-Malware-Capture-8-1/bro/conn.log.labeled\n",
            "opt/Malware-Project/BigDataset/IoTScenarios/CTU-IoT-Malware-Capture-9-1/bro/conn.log.labeled\n",
            "opt/Malware-Project/BigDataset/IoTScenarios/CTU-Honeypot-Capture-7-1/Somfy-01/bro/conn.log.labeled\n",
            "opt/Malware-Project/BigDataset/IoTScenarios/CTU-Honeypot-Capture-5-1/bro/conn.log.labeled\n",
            "opt/Malware-Project/BigDataset/IoTScenarios/CTU-Honeypot-Capture-4-1/bro/conn.log.labeled\n"
          ]
        }
      ],
      "source": [
        "!tar -xzvf \"/content/drive/MyDrive/IoT project/iot_23_datasets_small.tar.gz\" -C \"/content/drive/MyDrive/IoT project\"     "
      ]
    },
    {
      "cell_type": "code",
      "source": [
        "import os\n",
        "\n",
        "root_folder = r'/content/drive/MyDrive/IoT project/opt/Malware-Project/BigDataset/IoTScenarios'"
      ],
      "metadata": {
        "id": "fpuxmwkslsjR"
      },
      "execution_count": 3,
      "outputs": []
    },
    {
      "cell_type": "code",
      "source": [
        "ctu_iot_malware_capture_list = os.listdir(root_folder)"
      ],
      "metadata": {
        "id": "FH1FdzNpmAZT"
      },
      "execution_count": 5,
      "outputs": []
    },
    {
      "cell_type": "code",
      "source": [
        "os.listdir(r'/content/drive/MyDrive/IoT project/opt/Malware-Project/BigDataset/IoTScenarios/CTU-IoT-Malware-Capture-17-1/bro')"
      ],
      "metadata": {
        "colab": {
          "base_uri": "https://localhost:8080/"
        },
        "id": "cZjt5QvTmZ3a",
        "outputId": "24cc98f0-cb56-4a07-fb1a-b12c687512d5"
      },
      "execution_count": 6,
      "outputs": [
        {
          "output_type": "execute_result",
          "data": {
            "text/plain": [
              "['conn.log.labeled']"
            ]
          },
          "metadata": {},
          "execution_count": 6
        }
      ]
    },
    {
      "cell_type": "code",
      "source": [
        "path = root_folder\n",
        "filelist = []\n",
        "for root, dirs, files in os.walk(path):\n",
        "\tfor file in files:\n",
        "\t\tfilelist.append(os.path.join(root,file))"
      ],
      "metadata": {
        "id": "6J_WzXV0osAm"
      },
      "execution_count": 29,
      "outputs": []
    },
    {
      "cell_type": "code",
      "source": [
        "filelist"
      ],
      "metadata": {
        "colab": {
          "base_uri": "https://localhost:8080/"
        },
        "id": "A_jO8NlatmwQ",
        "outputId": "5d7779ad-b492-4bf2-b1a4-c0b9a1d08b83"
      },
      "execution_count": 30,
      "outputs": [
        {
          "output_type": "execute_result",
          "data": {
            "text/plain": [
              "['/content/drive/MyDrive/IoT project/opt/Malware-Project/BigDataset/IoTScenarios/CTU-IoT-Malware-Capture-1-1/bro/conn.log.labeled',\n",
              " '/content/drive/MyDrive/IoT project/opt/Malware-Project/BigDataset/IoTScenarios/CTU-IoT-Malware-Capture-17-1/bro/conn.log.labeled',\n",
              " '/content/drive/MyDrive/IoT project/opt/Malware-Project/BigDataset/IoTScenarios/CTU-IoT-Malware-Capture-20-1/bro/conn.log.labeled',\n",
              " '/content/drive/MyDrive/IoT project/opt/Malware-Project/BigDataset/IoTScenarios/CTU-IoT-Malware-Capture-21-1/bro/conn.log.labeled',\n",
              " '/content/drive/MyDrive/IoT project/opt/Malware-Project/BigDataset/IoTScenarios/CTU-IoT-Malware-Capture-3-1/bro/conn.log.labeled',\n",
              " '/content/drive/MyDrive/IoT project/opt/Malware-Project/BigDataset/IoTScenarios/CTU-IoT-Malware-Capture-33-1/bro/conn.log.labeled',\n",
              " '/content/drive/MyDrive/IoT project/opt/Malware-Project/BigDataset/IoTScenarios/CTU-IoT-Malware-Capture-34-1/bro/conn.log.labeled',\n",
              " '/content/drive/MyDrive/IoT project/opt/Malware-Project/BigDataset/IoTScenarios/CTU-IoT-Malware-Capture-35-1/bro/conn.log.labeled',\n",
              " '/content/drive/MyDrive/IoT project/opt/Malware-Project/BigDataset/IoTScenarios/CTU-IoT-Malware-Capture-36-1/bro/conn.log.labeled',\n",
              " '/content/drive/MyDrive/IoT project/opt/Malware-Project/BigDataset/IoTScenarios/CTU-IoT-Malware-Capture-39-1/bro/conn.log.labeled',\n",
              " '/content/drive/MyDrive/IoT project/opt/Malware-Project/BigDataset/IoTScenarios/CTU-IoT-Malware-Capture-42-1/bro/conn.log.labeled',\n",
              " '/content/drive/MyDrive/IoT project/opt/Malware-Project/BigDataset/IoTScenarios/CTU-IoT-Malware-Capture-43-1/bro/conn.log.labeled',\n",
              " '/content/drive/MyDrive/IoT project/opt/Malware-Project/BigDataset/IoTScenarios/CTU-IoT-Malware-Capture-44-1/bro/conn.log.labeled',\n",
              " '/content/drive/MyDrive/IoT project/opt/Malware-Project/BigDataset/IoTScenarios/CTU-IoT-Malware-Capture-48-1/bro/conn.log.labeled',\n",
              " '/content/drive/MyDrive/IoT project/opt/Malware-Project/BigDataset/IoTScenarios/CTU-IoT-Malware-Capture-49-1/bro/conn.log.labeled',\n",
              " '/content/drive/MyDrive/IoT project/opt/Malware-Project/BigDataset/IoTScenarios/CTU-IoT-Malware-Capture-52-1/bro/conn.log.labeled',\n",
              " '/content/drive/MyDrive/IoT project/opt/Malware-Project/BigDataset/IoTScenarios/CTU-IoT-Malware-Capture-60-1/bro/conn.log.labeled',\n",
              " '/content/drive/MyDrive/IoT project/opt/Malware-Project/BigDataset/IoTScenarios/CTU-IoT-Malware-Capture-7-1/bro/conn.log.labeled',\n",
              " '/content/drive/MyDrive/IoT project/opt/Malware-Project/BigDataset/IoTScenarios/CTU-IoT-Malware-Capture-8-1/bro/conn.log.labeled',\n",
              " '/content/drive/MyDrive/IoT project/opt/Malware-Project/BigDataset/IoTScenarios/CTU-IoT-Malware-Capture-9-1/bro/conn.log.labeled',\n",
              " '/content/drive/MyDrive/IoT project/opt/Malware-Project/BigDataset/IoTScenarios/CTU-Honeypot-Capture-7-1/Somfy-01/bro/conn.log.labeled',\n",
              " '/content/drive/MyDrive/IoT project/opt/Malware-Project/BigDataset/IoTScenarios/CTU-Honeypot-Capture-5-1/bro/conn.log.labeled',\n",
              " '/content/drive/MyDrive/IoT project/opt/Malware-Project/BigDataset/IoTScenarios/CTU-Honeypot-Capture-4-1/bro/conn.log.labeled']"
            ]
          },
          "metadata": {},
          "execution_count": 30
        }
      ]
    },
    {
      "cell_type": "code",
      "source": [
        "columns=['ts',\n",
        "        'uid',\n",
        "        'id.orig_h',\n",
        "        'id.orig_p',\n",
        "        'id.resp_h',\n",
        "        'id.resp_p',\n",
        "        'proto',\n",
        "        'service',\n",
        "        'duration',\n",
        "        'orig_bytes',\n",
        "        'resp_bytes',\n",
        "        'conn_state',\n",
        "        'local_orig',\n",
        "        'local_resp',\n",
        "        'missed_bytes',\n",
        "        'history',\n",
        "        'orig_pkts',\n",
        "        'orig_ip_bytes',\n",
        "        'resp_pkts',\n",
        "        'resp_ip_bytes',\n",
        "        'label']"
      ],
      "metadata": {
        "id": "vYQ3z_ENtyjn"
      },
      "execution_count": 33,
      "outputs": []
    },
    {
      "cell_type": "code",
      "source": [
        "import pandas as pd\n",
        "tables = []\n",
        "for cur_file in filelist:\n",
        "  cur_table = pd.read_table(filepath_or_buffer=cur_file, skiprows=10, nrows=100000)\n",
        "  cur_table.columns = columns\n",
        "  tables.append(cur_table)\n"
      ],
      "metadata": {
        "id": "nWwOL-myuM86"
      },
      "execution_count": 39,
      "outputs": []
    },
    {
      "cell_type": "code",
      "source": [
        "df_c=pd.concat(tables)"
      ],
      "metadata": {
        "id": "0hz1kTqdup4K"
      },
      "execution_count": 48,
      "outputs": []
    },
    {
      "cell_type": "code",
      "source": [
        "df_c"
      ],
      "metadata": {
        "colab": {
          "base_uri": "https://localhost:8080/",
          "height": 557
        },
        "id": "D6La0zQ0vgQh",
        "outputId": "c4f8fcff-ebde-466e-e0eb-38818b074022"
      },
      "execution_count": 49,
      "outputs": [
        {
          "output_type": "execute_result",
          "data": {
            "text/plain": [
              "                    ts                               uid        id.orig_h  \\\n",
              "0     1525879832.01624                 CDe43c1PtgynajGI6  192.168.100.103   \n",
              "1    1525879832.024985                CJaDcG3MZzvf1YVYI4  192.168.100.103   \n",
              "2    1525879832.044975                CMBrup3BLXivSp4Avc  192.168.100.103   \n",
              "3    1525879833.016171                CfHl9r3XMYtDQRrHnh  192.168.100.103   \n",
              "4    1525879833.044906                C7USrA15nFVkniMqC5  192.168.100.103   \n",
              "..                 ...                               ...              ...   \n",
              "445  1540547242.580300                ChD10Y1fVGrFvMpD6g    192.168.1.132   \n",
              "446  1540547904.130404                Caxyou4MZpRXfDBG8h    192.168.1.132   \n",
              "447  1540469198.477548                 CkHQfG3B034MyvP3W    192.168.1.132   \n",
              "448  1540477674.054085                ClZeN63S7LbgEs2ZNk    192.168.1.132   \n",
              "449             #close  2019-12-05-15-46-36   benign   -              NaN   \n",
              "\n",
              "     id.orig_p        id.resp_h  id.resp_p proto service      duration  \\\n",
              "0      60905.0  131.174.215.147       23.0   tcp       -      2.998796   \n",
              "1      44301.0      91.42.47.63       23.0   tcp       -             -   \n",
              "2      50244.0  120.210.108.200       23.0   tcp       -             -   \n",
              "3      34243.0     147.7.65.203    49560.0   tcp       -      2.998804   \n",
              "4      34840.0     145.164.35.6    21288.0   tcp       -             -   \n",
              "..         ...              ...        ...   ...     ...           ...   \n",
              "445    43799.0      192.168.1.1       53.0   udp     dns      0.066709   \n",
              "446    51285.0    216.239.35.12      123.0   udp       -      0.270107   \n",
              "447    37653.0    104.155.18.91      443.0   tcp       -  78840.329305   \n",
              "448     1900.0  239.255.255.250     1900.0   udp       -  70334.105742   \n",
              "449        NaN              NaN        NaN   NaN     NaN           NaN   \n",
              "\n",
              "    orig_bytes  ... conn_state local_orig local_resp missed_bytes  history  \\\n",
              "0            0  ...         S0          -          -          0.0        S   \n",
              "1            -  ...         S0          -          -          0.0        S   \n",
              "2            -  ...         S0          -          -          0.0        S   \n",
              "3            0  ...         S0          -          -          0.0        S   \n",
              "4            -  ...         S0          -          -          0.0        S   \n",
              "..         ...  ...        ...        ...        ...          ...      ...   \n",
              "445         34  ...         SF          -          -          0.0       Dd   \n",
              "446         48  ...         SF          -          -          0.0       Dd   \n",
              "447      25624  ...        OTH          -          -          0.0     AaDd   \n",
              "448    2550936  ...         S0          -          -          0.0        D   \n",
              "449        NaN  ...        NaN        NaN        NaN          NaN      NaN   \n",
              "\n",
              "    orig_pkts  orig_ip_bytes  resp_pkts  resp_ip_bytes  \\\n",
              "0         3.0          180.0        0.0            0.0   \n",
              "1         1.0           60.0        0.0            0.0   \n",
              "2         1.0           60.0        0.0            0.0   \n",
              "3         3.0          180.0        0.0            0.0   \n",
              "4         1.0           60.0        0.0            0.0   \n",
              "..        ...            ...        ...            ...   \n",
              "445       1.0           62.0        1.0          325.0   \n",
              "446       1.0           76.0        1.0           76.0   \n",
              "447    3291.0       157263.0     2667.0       129675.0   \n",
              "448    8124.0      2778408.0        0.0            0.0   \n",
              "449       NaN            NaN        NaN            NaN   \n",
              "\n",
              "                                               label  \n",
              "0    (empty)   Malicious   PartOfAHorizontalPortScan  \n",
              "1    (empty)   Malicious   PartOfAHorizontalPortScan  \n",
              "2    (empty)   Malicious   PartOfAHorizontalPortScan  \n",
              "3                               (empty)   Benign   -  \n",
              "4                               (empty)   Benign   -  \n",
              "..                                               ...  \n",
              "445                                   -   benign   -  \n",
              "446                                   -   benign   -  \n",
              "447                                   -   benign   -  \n",
              "448                                   -   benign   -  \n",
              "449                                              NaN  \n",
              "\n",
              "[1446644 rows x 21 columns]"
            ],
            "text/html": [
              "\n",
              "  <div id=\"df-b537ede8-e266-4072-a345-67d629f40777\">\n",
              "    <div class=\"colab-df-container\">\n",
              "      <div>\n",
              "<style scoped>\n",
              "    .dataframe tbody tr th:only-of-type {\n",
              "        vertical-align: middle;\n",
              "    }\n",
              "\n",
              "    .dataframe tbody tr th {\n",
              "        vertical-align: top;\n",
              "    }\n",
              "\n",
              "    .dataframe thead th {\n",
              "        text-align: right;\n",
              "    }\n",
              "</style>\n",
              "<table border=\"1\" class=\"dataframe\">\n",
              "  <thead>\n",
              "    <tr style=\"text-align: right;\">\n",
              "      <th></th>\n",
              "      <th>ts</th>\n",
              "      <th>uid</th>\n",
              "      <th>id.orig_h</th>\n",
              "      <th>id.orig_p</th>\n",
              "      <th>id.resp_h</th>\n",
              "      <th>id.resp_p</th>\n",
              "      <th>proto</th>\n",
              "      <th>service</th>\n",
              "      <th>duration</th>\n",
              "      <th>orig_bytes</th>\n",
              "      <th>...</th>\n",
              "      <th>conn_state</th>\n",
              "      <th>local_orig</th>\n",
              "      <th>local_resp</th>\n",
              "      <th>missed_bytes</th>\n",
              "      <th>history</th>\n",
              "      <th>orig_pkts</th>\n",
              "      <th>orig_ip_bytes</th>\n",
              "      <th>resp_pkts</th>\n",
              "      <th>resp_ip_bytes</th>\n",
              "      <th>label</th>\n",
              "    </tr>\n",
              "  </thead>\n",
              "  <tbody>\n",
              "    <tr>\n",
              "      <th>0</th>\n",
              "      <td>1525879832.01624</td>\n",
              "      <td>CDe43c1PtgynajGI6</td>\n",
              "      <td>192.168.100.103</td>\n",
              "      <td>60905.0</td>\n",
              "      <td>131.174.215.147</td>\n",
              "      <td>23.0</td>\n",
              "      <td>tcp</td>\n",
              "      <td>-</td>\n",
              "      <td>2.998796</td>\n",
              "      <td>0</td>\n",
              "      <td>...</td>\n",
              "      <td>S0</td>\n",
              "      <td>-</td>\n",
              "      <td>-</td>\n",
              "      <td>0.0</td>\n",
              "      <td>S</td>\n",
              "      <td>3.0</td>\n",
              "      <td>180.0</td>\n",
              "      <td>0.0</td>\n",
              "      <td>0.0</td>\n",
              "      <td>(empty)   Malicious   PartOfAHorizontalPortScan</td>\n",
              "    </tr>\n",
              "    <tr>\n",
              "      <th>1</th>\n",
              "      <td>1525879832.024985</td>\n",
              "      <td>CJaDcG3MZzvf1YVYI4</td>\n",
              "      <td>192.168.100.103</td>\n",
              "      <td>44301.0</td>\n",
              "      <td>91.42.47.63</td>\n",
              "      <td>23.0</td>\n",
              "      <td>tcp</td>\n",
              "      <td>-</td>\n",
              "      <td>-</td>\n",
              "      <td>-</td>\n",
              "      <td>...</td>\n",
              "      <td>S0</td>\n",
              "      <td>-</td>\n",
              "      <td>-</td>\n",
              "      <td>0.0</td>\n",
              "      <td>S</td>\n",
              "      <td>1.0</td>\n",
              "      <td>60.0</td>\n",
              "      <td>0.0</td>\n",
              "      <td>0.0</td>\n",
              "      <td>(empty)   Malicious   PartOfAHorizontalPortScan</td>\n",
              "    </tr>\n",
              "    <tr>\n",
              "      <th>2</th>\n",
              "      <td>1525879832.044975</td>\n",
              "      <td>CMBrup3BLXivSp4Avc</td>\n",
              "      <td>192.168.100.103</td>\n",
              "      <td>50244.0</td>\n",
              "      <td>120.210.108.200</td>\n",
              "      <td>23.0</td>\n",
              "      <td>tcp</td>\n",
              "      <td>-</td>\n",
              "      <td>-</td>\n",
              "      <td>-</td>\n",
              "      <td>...</td>\n",
              "      <td>S0</td>\n",
              "      <td>-</td>\n",
              "      <td>-</td>\n",
              "      <td>0.0</td>\n",
              "      <td>S</td>\n",
              "      <td>1.0</td>\n",
              "      <td>60.0</td>\n",
              "      <td>0.0</td>\n",
              "      <td>0.0</td>\n",
              "      <td>(empty)   Malicious   PartOfAHorizontalPortScan</td>\n",
              "    </tr>\n",
              "    <tr>\n",
              "      <th>3</th>\n",
              "      <td>1525879833.016171</td>\n",
              "      <td>CfHl9r3XMYtDQRrHnh</td>\n",
              "      <td>192.168.100.103</td>\n",
              "      <td>34243.0</td>\n",
              "      <td>147.7.65.203</td>\n",
              "      <td>49560.0</td>\n",
              "      <td>tcp</td>\n",
              "      <td>-</td>\n",
              "      <td>2.998804</td>\n",
              "      <td>0</td>\n",
              "      <td>...</td>\n",
              "      <td>S0</td>\n",
              "      <td>-</td>\n",
              "      <td>-</td>\n",
              "      <td>0.0</td>\n",
              "      <td>S</td>\n",
              "      <td>3.0</td>\n",
              "      <td>180.0</td>\n",
              "      <td>0.0</td>\n",
              "      <td>0.0</td>\n",
              "      <td>(empty)   Benign   -</td>\n",
              "    </tr>\n",
              "    <tr>\n",
              "      <th>4</th>\n",
              "      <td>1525879833.044906</td>\n",
              "      <td>C7USrA15nFVkniMqC5</td>\n",
              "      <td>192.168.100.103</td>\n",
              "      <td>34840.0</td>\n",
              "      <td>145.164.35.6</td>\n",
              "      <td>21288.0</td>\n",
              "      <td>tcp</td>\n",
              "      <td>-</td>\n",
              "      <td>-</td>\n",
              "      <td>-</td>\n",
              "      <td>...</td>\n",
              "      <td>S0</td>\n",
              "      <td>-</td>\n",
              "      <td>-</td>\n",
              "      <td>0.0</td>\n",
              "      <td>S</td>\n",
              "      <td>1.0</td>\n",
              "      <td>60.0</td>\n",
              "      <td>0.0</td>\n",
              "      <td>0.0</td>\n",
              "      <td>(empty)   Benign   -</td>\n",
              "    </tr>\n",
              "    <tr>\n",
              "      <th>...</th>\n",
              "      <td>...</td>\n",
              "      <td>...</td>\n",
              "      <td>...</td>\n",
              "      <td>...</td>\n",
              "      <td>...</td>\n",
              "      <td>...</td>\n",
              "      <td>...</td>\n",
              "      <td>...</td>\n",
              "      <td>...</td>\n",
              "      <td>...</td>\n",
              "      <td>...</td>\n",
              "      <td>...</td>\n",
              "      <td>...</td>\n",
              "      <td>...</td>\n",
              "      <td>...</td>\n",
              "      <td>...</td>\n",
              "      <td>...</td>\n",
              "      <td>...</td>\n",
              "      <td>...</td>\n",
              "      <td>...</td>\n",
              "      <td>...</td>\n",
              "    </tr>\n",
              "    <tr>\n",
              "      <th>445</th>\n",
              "      <td>1540547242.580300</td>\n",
              "      <td>ChD10Y1fVGrFvMpD6g</td>\n",
              "      <td>192.168.1.132</td>\n",
              "      <td>43799.0</td>\n",
              "      <td>192.168.1.1</td>\n",
              "      <td>53.0</td>\n",
              "      <td>udp</td>\n",
              "      <td>dns</td>\n",
              "      <td>0.066709</td>\n",
              "      <td>34</td>\n",
              "      <td>...</td>\n",
              "      <td>SF</td>\n",
              "      <td>-</td>\n",
              "      <td>-</td>\n",
              "      <td>0.0</td>\n",
              "      <td>Dd</td>\n",
              "      <td>1.0</td>\n",
              "      <td>62.0</td>\n",
              "      <td>1.0</td>\n",
              "      <td>325.0</td>\n",
              "      <td>-   benign   -</td>\n",
              "    </tr>\n",
              "    <tr>\n",
              "      <th>446</th>\n",
              "      <td>1540547904.130404</td>\n",
              "      <td>Caxyou4MZpRXfDBG8h</td>\n",
              "      <td>192.168.1.132</td>\n",
              "      <td>51285.0</td>\n",
              "      <td>216.239.35.12</td>\n",
              "      <td>123.0</td>\n",
              "      <td>udp</td>\n",
              "      <td>-</td>\n",
              "      <td>0.270107</td>\n",
              "      <td>48</td>\n",
              "      <td>...</td>\n",
              "      <td>SF</td>\n",
              "      <td>-</td>\n",
              "      <td>-</td>\n",
              "      <td>0.0</td>\n",
              "      <td>Dd</td>\n",
              "      <td>1.0</td>\n",
              "      <td>76.0</td>\n",
              "      <td>1.0</td>\n",
              "      <td>76.0</td>\n",
              "      <td>-   benign   -</td>\n",
              "    </tr>\n",
              "    <tr>\n",
              "      <th>447</th>\n",
              "      <td>1540469198.477548</td>\n",
              "      <td>CkHQfG3B034MyvP3W</td>\n",
              "      <td>192.168.1.132</td>\n",
              "      <td>37653.0</td>\n",
              "      <td>104.155.18.91</td>\n",
              "      <td>443.0</td>\n",
              "      <td>tcp</td>\n",
              "      <td>-</td>\n",
              "      <td>78840.329305</td>\n",
              "      <td>25624</td>\n",
              "      <td>...</td>\n",
              "      <td>OTH</td>\n",
              "      <td>-</td>\n",
              "      <td>-</td>\n",
              "      <td>0.0</td>\n",
              "      <td>AaDd</td>\n",
              "      <td>3291.0</td>\n",
              "      <td>157263.0</td>\n",
              "      <td>2667.0</td>\n",
              "      <td>129675.0</td>\n",
              "      <td>-   benign   -</td>\n",
              "    </tr>\n",
              "    <tr>\n",
              "      <th>448</th>\n",
              "      <td>1540477674.054085</td>\n",
              "      <td>ClZeN63S7LbgEs2ZNk</td>\n",
              "      <td>192.168.1.132</td>\n",
              "      <td>1900.0</td>\n",
              "      <td>239.255.255.250</td>\n",
              "      <td>1900.0</td>\n",
              "      <td>udp</td>\n",
              "      <td>-</td>\n",
              "      <td>70334.105742</td>\n",
              "      <td>2550936</td>\n",
              "      <td>...</td>\n",
              "      <td>S0</td>\n",
              "      <td>-</td>\n",
              "      <td>-</td>\n",
              "      <td>0.0</td>\n",
              "      <td>D</td>\n",
              "      <td>8124.0</td>\n",
              "      <td>2778408.0</td>\n",
              "      <td>0.0</td>\n",
              "      <td>0.0</td>\n",
              "      <td>-   benign   -</td>\n",
              "    </tr>\n",
              "    <tr>\n",
              "      <th>449</th>\n",
              "      <td>#close</td>\n",
              "      <td>2019-12-05-15-46-36   benign   -</td>\n",
              "      <td>NaN</td>\n",
              "      <td>NaN</td>\n",
              "      <td>NaN</td>\n",
              "      <td>NaN</td>\n",
              "      <td>NaN</td>\n",
              "      <td>NaN</td>\n",
              "      <td>NaN</td>\n",
              "      <td>NaN</td>\n",
              "      <td>...</td>\n",
              "      <td>NaN</td>\n",
              "      <td>NaN</td>\n",
              "      <td>NaN</td>\n",
              "      <td>NaN</td>\n",
              "      <td>NaN</td>\n",
              "      <td>NaN</td>\n",
              "      <td>NaN</td>\n",
              "      <td>NaN</td>\n",
              "      <td>NaN</td>\n",
              "      <td>NaN</td>\n",
              "    </tr>\n",
              "  </tbody>\n",
              "</table>\n",
              "<p>1446644 rows × 21 columns</p>\n",
              "</div>\n",
              "      <button class=\"colab-df-convert\" onclick=\"convertToInteractive('df-b537ede8-e266-4072-a345-67d629f40777')\"\n",
              "              title=\"Convert this dataframe to an interactive table.\"\n",
              "              style=\"display:none;\">\n",
              "        \n",
              "  <svg xmlns=\"http://www.w3.org/2000/svg\" height=\"24px\"viewBox=\"0 0 24 24\"\n",
              "       width=\"24px\">\n",
              "    <path d=\"M0 0h24v24H0V0z\" fill=\"none\"/>\n",
              "    <path d=\"M18.56 5.44l.94 2.06.94-2.06 2.06-.94-2.06-.94-.94-2.06-.94 2.06-2.06.94zm-11 1L8.5 8.5l.94-2.06 2.06-.94-2.06-.94L8.5 2.5l-.94 2.06-2.06.94zm10 10l.94 2.06.94-2.06 2.06-.94-2.06-.94-.94-2.06-.94 2.06-2.06.94z\"/><path d=\"M17.41 7.96l-1.37-1.37c-.4-.4-.92-.59-1.43-.59-.52 0-1.04.2-1.43.59L10.3 9.45l-7.72 7.72c-.78.78-.78 2.05 0 2.83L4 21.41c.39.39.9.59 1.41.59.51 0 1.02-.2 1.41-.59l7.78-7.78 2.81-2.81c.8-.78.8-2.07 0-2.86zM5.41 20L4 18.59l7.72-7.72 1.47 1.35L5.41 20z\"/>\n",
              "  </svg>\n",
              "      </button>\n",
              "      \n",
              "  <style>\n",
              "    .colab-df-container {\n",
              "      display:flex;\n",
              "      flex-wrap:wrap;\n",
              "      gap: 12px;\n",
              "    }\n",
              "\n",
              "    .colab-df-convert {\n",
              "      background-color: #E8F0FE;\n",
              "      border: none;\n",
              "      border-radius: 50%;\n",
              "      cursor: pointer;\n",
              "      display: none;\n",
              "      fill: #1967D2;\n",
              "      height: 32px;\n",
              "      padding: 0 0 0 0;\n",
              "      width: 32px;\n",
              "    }\n",
              "\n",
              "    .colab-df-convert:hover {\n",
              "      background-color: #E2EBFA;\n",
              "      box-shadow: 0px 1px 2px rgba(60, 64, 67, 0.3), 0px 1px 3px 1px rgba(60, 64, 67, 0.15);\n",
              "      fill: #174EA6;\n",
              "    }\n",
              "\n",
              "    [theme=dark] .colab-df-convert {\n",
              "      background-color: #3B4455;\n",
              "      fill: #D2E3FC;\n",
              "    }\n",
              "\n",
              "    [theme=dark] .colab-df-convert:hover {\n",
              "      background-color: #434B5C;\n",
              "      box-shadow: 0px 1px 3px 1px rgba(0, 0, 0, 0.15);\n",
              "      filter: drop-shadow(0px 1px 2px rgba(0, 0, 0, 0.3));\n",
              "      fill: #FFFFFF;\n",
              "    }\n",
              "  </style>\n",
              "\n",
              "      <script>\n",
              "        const buttonEl =\n",
              "          document.querySelector('#df-b537ede8-e266-4072-a345-67d629f40777 button.colab-df-convert');\n",
              "        buttonEl.style.display =\n",
              "          google.colab.kernel.accessAllowed ? 'block' : 'none';\n",
              "\n",
              "        async function convertToInteractive(key) {\n",
              "          const element = document.querySelector('#df-b537ede8-e266-4072-a345-67d629f40777');\n",
              "          const dataTable =\n",
              "            await google.colab.kernel.invokeFunction('convertToInteractive',\n",
              "                                                     [key], {});\n",
              "          if (!dataTable) return;\n",
              "\n",
              "          const docLinkHtml = 'Like what you see? Visit the ' +\n",
              "            '<a target=\"_blank\" href=https://colab.research.google.com/notebooks/data_table.ipynb>data table notebook</a>'\n",
              "            + ' to learn more about interactive tables.';\n",
              "          element.innerHTML = '';\n",
              "          dataTable['output_type'] = 'display_data';\n",
              "          await google.colab.output.renderOutput(dataTable, element);\n",
              "          const docLink = document.createElement('div');\n",
              "          docLink.innerHTML = docLinkHtml;\n",
              "          element.appendChild(docLink);\n",
              "        }\n",
              "      </script>\n",
              "    </div>\n",
              "  </div>\n",
              "  "
            ]
          },
          "metadata": {},
          "execution_count": 49
        }
      ]
    },
    {
      "cell_type": "code",
      "source": [
        "df_c['label'].value_counts()"
      ],
      "metadata": {
        "colab": {
          "base_uri": "https://localhost:8080/"
        },
        "id": "Q1RItNVkwhNW",
        "outputId": "67db87b5-6baa-4708-d208-03855a02ff2c"
      },
      "execution_count": 50,
      "outputs": [
        {
          "output_type": "execute_result",
          "data": {
            "text/plain": [
              "-   Malicious   PartOfAHorizontalPortScan          578922\n",
              "(empty)   Malicious   PartOfAHorizontalPortScan    247024\n",
              "-   Malicious   Okiru                              163018\n",
              "-   Benign   -                                     146276\n",
              "-   Malicious   DDoS                               138778\n",
              "(empty)   Malicious   Okiru                         99675\n",
              "(empty)   Benign   -                                51535\n",
              "(empty)   Malicious   C&C                            8229\n",
              "-   Malicious   C&C                                  6871\n",
              "(empty)   Malicious   Attack                         3815\n",
              "-   benign   -                                       1947\n",
              "-   Malicious   C&C-HeartBeat                         227\n",
              "(empty)   Malicious   C&C-HeartBeat                   122\n",
              "-   Malicious   Attack                                101\n",
              "-   Malicious   C&C-FileDownload                       43\n",
              "-   Malicious   C&C-Torii                              30\n",
              "-   Malicious   FileDownload                           13\n",
              "-   Malicious   C&C-HeartBeat-FileDownload              8\n",
              "-   Malicious   C&C-Mirai                               1\n",
              "Name: label, dtype: int64"
            ]
          },
          "metadata": {},
          "execution_count": 50
        }
      ]
    },
    {
      "cell_type": "code",
      "source": [
        "df_c.loc[(df_c.label == '-   Malicious   PartOfAHorizontalPortScan'), 'label'] = 'PartOfAHorizontalPortScan'\n",
        "df_c.loc[(df_c.label == '(empty)   Malicious   PartOfAHorizontalPortScan'), 'label'] = 'PartOfAHorizontalPortScan'\n",
        "df_c.loc[(df_c.label == '-   Malicious   Okiru'), 'label'] = 'Okiru'\n",
        "df_c.loc[(df_c.label == '(empty)   Malicious   Okiru'), 'label'] = 'Okiru'\n",
        "df_c.loc[(df_c.label == '-   Benign   -'), 'label'] = 'Benign'\n",
        "df_c.loc[(df_c.label == '(empty)   Benign   -'), 'label'] = 'Benign'\n",
        "df_c.loc[(df_c.label == '-   benign   -'), 'label'] = 'Benign'\n",
        "df_c.loc[(df_c.label == '-   Benign   -'), 'label'] = 'Benign'\n",
        "df_c.loc[(df_c.label == '-   Malicious   DDoS'), 'label'] = 'DDoS'\n",
        "df_c.loc[(df_c.label == '-   Malicious   C&C'), 'label'] = 'C&C'\n",
        "df_c.loc[(df_c.label == '(empty)   Malicious   C&C'), 'label'] = 'C&C'\n",
        "df_c.loc[(df_c.label == '-   Malicious   Attack'), 'label'] = 'Attack'\n",
        "df_c.loc[(df_c.label == '(empty)   Malicious   Attack'), 'label'] = 'Attack'\n",
        "df_c.loc[(df_c.label == '-   Malicious   C&C-HeartBeat'), 'label'] = 'C&C-HeartBeat'\n",
        "df_c.loc[(df_c.label == '(empty)   Malicious   C&C-HeartBeat'), 'label'] = 'C&C-HeartBeat'\n",
        "df_c.loc[(df_c.label == '-   Malicious   C&C-FileDownload'), 'label'] = 'C&C-FileDownload'\n",
        "df_c.loc[(df_c.label == '-   Malicious   C&C-Torii'), 'label'] = 'C&C-Torii'\n",
        "df_c.loc[(df_c.label == '-   Malicious   C&C-HeartBeat-FileDownload'), 'label'] = 'C&C-HeartBeat-FileDownload'\n",
        "df_c.loc[(df_c.label == '-   Malicious   FileDownload'), 'label'] = 'FileDownload'\n",
        "df_c.loc[(df_c.label == '-   Malicious   C&C-Mirai'), 'label'] = 'C&C-Mirai'\n",
        "df_c.loc[(df_c.label == '-   Malicious   Okiru-Attack'), 'label'] = 'Okiru-Attack'"
      ],
      "metadata": {
        "id": "0X1ujI99vnUi"
      },
      "execution_count": 51,
      "outputs": []
    },
    {
      "cell_type": "code",
      "source": [
        "df_c['label'].value_counts()"
      ],
      "metadata": {
        "colab": {
          "base_uri": "https://localhost:8080/"
        },
        "id": "uG5lyYGAv44a",
        "outputId": "19339527-aaa3-4759-eb2a-56246281f592"
      },
      "execution_count": 52,
      "outputs": [
        {
          "output_type": "execute_result",
          "data": {
            "text/plain": [
              "PartOfAHorizontalPortScan     825946\n",
              "Okiru                         262693\n",
              "Benign                        199758\n",
              "DDoS                          138778\n",
              "C&C                            15100\n",
              "Attack                          3916\n",
              "C&C-HeartBeat                    349\n",
              "C&C-FileDownload                  43\n",
              "C&C-Torii                         30\n",
              "FileDownload                      13\n",
              "C&C-HeartBeat-FileDownload         8\n",
              "C&C-Mirai                          1\n",
              "Name: label, dtype: int64"
            ]
          },
          "metadata": {},
          "execution_count": 52
        }
      ]
    },
    {
      "cell_type": "code",
      "source": [
        "df_c = df_c.drop(columns=['ts','uid','id.orig_h','id.orig_p','id.resp_h','id.resp_p',\n",
        "                               'service','local_orig','local_resp','history'])"
      ],
      "metadata": {
        "id": "nahwtFQRxV80"
      },
      "execution_count": 53,
      "outputs": []
    },
    {
      "cell_type": "code",
      "source": [
        "\n",
        "df_c = pd.get_dummies(df_c, columns=['proto'])\n",
        "df_c = pd.get_dummies(df_c, columns=['conn_state'])"
      ],
      "metadata": {
        "id": "YrwnEPPcxgdh"
      },
      "execution_count": 54,
      "outputs": []
    },
    {
      "cell_type": "code",
      "source": [],
      "metadata": {
        "id": "Hra-QJkRxjir"
      },
      "execution_count": null,
      "outputs": []
    },
    {
      "cell_type": "code",
      "source": [
        "df_c['duration'] = df_c['duration'].str.replace('-','0')\n",
        "df_c['orig_bytes'] = df_c['orig_bytes'].str.replace('-','0')\n",
        "df_c['resp_bytes'] = df_c['resp_bytes'].str.replace('-','0')"
      ],
      "metadata": {
        "id": "k4V7fluSxjmR"
      },
      "execution_count": 55,
      "outputs": []
    },
    {
      "cell_type": "code",
      "source": [
        "df_c.fillna(-1,inplace=True)"
      ],
      "metadata": {
        "id": "twP8e6CKxoAL"
      },
      "execution_count": 56,
      "outputs": []
    },
    {
      "cell_type": "code",
      "source": [
        "df_c.isna().sum()\n"
      ],
      "metadata": {
        "colab": {
          "base_uri": "https://localhost:8080/"
        },
        "id": "SPofAnZTxsiO",
        "outputId": "45815a8d-3e4c-4221-ae57-b261cc16dbd5"
      },
      "execution_count": 57,
      "outputs": [
        {
          "output_type": "execute_result",
          "data": {
            "text/plain": [
              "duration             0\n",
              "orig_bytes           0\n",
              "resp_bytes           0\n",
              "missed_bytes         0\n",
              "orig_pkts            0\n",
              "orig_ip_bytes        0\n",
              "resp_pkts            0\n",
              "resp_ip_bytes        0\n",
              "label                0\n",
              "proto_icmp           0\n",
              "proto_tcp            0\n",
              "proto_udp            0\n",
              "conn_state_OTH       0\n",
              "conn_state_REJ       0\n",
              "conn_state_RSTO      0\n",
              "conn_state_RSTOS0    0\n",
              "conn_state_RSTR      0\n",
              "conn_state_RSTRH     0\n",
              "conn_state_S0        0\n",
              "conn_state_S1        0\n",
              "conn_state_S2        0\n",
              "conn_state_S3        0\n",
              "conn_state_SF        0\n",
              "conn_state_SH        0\n",
              "conn_state_SHR       0\n",
              "dtype: int64"
            ]
          },
          "metadata": {},
          "execution_count": 57
        }
      ]
    },
    {
      "cell_type": "code",
      "source": [
        "print(df_c.columns.tolist())\n"
      ],
      "metadata": {
        "colab": {
          "base_uri": "https://localhost:8080/"
        },
        "id": "uWfhCf4Cxw5R",
        "outputId": "7e79683b-5856-4f6c-8fe3-b08fa30211f7"
      },
      "execution_count": 58,
      "outputs": [
        {
          "output_type": "stream",
          "name": "stdout",
          "text": [
            "['duration', 'orig_bytes', 'resp_bytes', 'missed_bytes', 'orig_pkts', 'orig_ip_bytes', 'resp_pkts', 'resp_ip_bytes', 'label', 'proto_icmp', 'proto_tcp', 'proto_udp', 'conn_state_OTH', 'conn_state_REJ', 'conn_state_RSTO', 'conn_state_RSTOS0', 'conn_state_RSTR', 'conn_state_RSTRH', 'conn_state_S0', 'conn_state_S1', 'conn_state_S2', 'conn_state_S3', 'conn_state_SF', 'conn_state_SH', 'conn_state_SHR']\n"
          ]
        }
      ]
    },
    {
      "cell_type": "code",
      "source": [
        "from google.colab import drive\n",
        "drive.mount('/content/drive')\n",
        "path = '/content/drive/MyDrive/IoT project/iot23_combined.csv'\n",
        "with open(path, 'w', encoding='utf-8-sig') as f:\n",
        "  df_c.to_csv(f)"
      ],
      "metadata": {
        "colab": {
          "base_uri": "https://localhost:8080/"
        },
        "id": "c6fcbqpDyG8I",
        "outputId": "e68f1afa-4067-4a8d-e148-77319175acd8"
      },
      "execution_count": 61,
      "outputs": [
        {
          "output_type": "stream",
          "name": "stdout",
          "text": [
            "Drive already mounted at /content/drive; to attempt to forcibly remount, call drive.mount(\"/content/drive\", force_remount=True).\n"
          ]
        }
      ]
    }
  ]
}